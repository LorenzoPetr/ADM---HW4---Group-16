{
 "cells": [
  {
   "cell_type": "markdown",
   "metadata": {
    "id": "Sh-91_0r4WqF"
   },
   "source": [
    "### Q1.1\n",
    "\n",
    "Implement your hash functions by scratch, no ready-made hash functions are allowed. "
   ]
  },
  {
   "cell_type": "markdown",
   "metadata": {
    "id": "zV77pzMI4NEo"
   },
   "source": [
    "# Q1: Hashing\n",
    "\n",
    "For this task, we are dealing with hashing algorithms. In particular you will implement hash functions and an algorithm called HyperLogLog (HLL).\n",
    "\n",
    "There are many scenarios where we need to know (or at least estimate) the cardinality of a dataset, e.g., statistical purposes. Consider the need to determine the number of distinct people visiting a website. For famous social media (e.g., Facebook, Instagram) or e-commerce sites (e.g., Amazon, ASOS), this task could be computationally expensive because of the large number of users. Doing this with traditional methods (e.g., SQL query) on a dataset as massive as the sites mentioned above could take days and large amounts and memory. Is it not a better idea to approximately estimate the number of distinct users? HyperLogLog is an algorithm that allows us to make decent guesses when counting vast numbers of distinct elements, with very little computation or memory required."
   ]
  },
  {
   "cell_type": "markdown",
   "metadata": {},
   "source": [
    "Q1.1\n",
    "\n",
    "Implement your hash functions by scratch, no ready-made hash functions are allowed."
   ]
  },
  {
   "cell_type": "code",
   "execution_count": 1,
   "metadata": {
    "id": "-aIYU-lmb0ja"
   },
   "outputs": [],
   "source": [
    "import pandas as pd\n",
    "import numpy as np\n",
    "import csv\n",
    "import re\n",
    "import textwrap\n",
    "from collections import defaultdict\n",
    "from math import sqrt\n",
    "import time\n",
    "import math"
   ]
  },
  {
   "cell_type": "code",
   "execution_count": 2,
   "metadata": {
    "colab": {
     "base_uri": "https://localhost:8080/"
    },
    "id": "CH6EkT5H4EeV",
    "outputId": "1544df93-893b-471d-d4e2-ba83eca33ff4"
   },
   "outputs": [
    {
     "name": "stdout",
     "output_type": "stream",
     "text": [
      "['844082e02a27ddee8d99ea1af94a2969', 'ff96d6665b5c59d3a70bb8f2ba4f10be', 'b64a85884e2b159829331c19e05dbac9', '1c8836719e84867c26ba2cfeb372c53d', 'b66f73ffd9008d9c99159e164261df51', '5f414364fde0ca5a72b5a4313d5266aa', 'fdcb0c09722ea060d81cba08681a29b9', '0ebca291ec5fa3f2146eb1c3a219fe13', '1ed24bee346c4c34a491a3db6ce41e73', '4d6289943c24816060240ddff3c530d7']\n"
     ]
    }
   ],
   "source": [
    "examples = []\n",
    "count = 0\n",
    "\n",
    "with open('hash.txt', 'r') as data:\n",
    "    for line in data:\n",
    "        if count<10:\n",
    "            examples.append(line)\n",
    "            count +=1\n",
    "        else:\n",
    "            break\n",
    "\n",
    "examples = [i[:-1] for i in examples]\n",
    "print(examples)"
   ]
  },
  {
   "cell_type": "code",
   "execution_count": 3,
   "metadata": {
    "id": "6dPny9cCT87s"
   },
   "outputs": [],
   "source": [
    "np.random.seed(123)\n",
    "# take one coefficient for each slice of the string\n",
    "a = []\n",
    "for i in range(5):\n",
    "    a.append(np.random.randint(0, 65536))\n",
    "\n",
    "def hash_fun(string):\n",
    "\n",
    "    # divide the string into 5 parts. \n",
    "    slices = textwrap.wrap(string, 6)\n",
    "    slices[4] = slices[4] + slices[-1] # Since the strings' length is 31, we need to add the last element to the 5th slice\n",
    "    slices.remove(slices[-1])\n",
    "\n",
    "    # turn everything into a number and sum up the elements of each part\n",
    "    x = []\n",
    "    for slce in slices:\n",
    "        x.append(sum([ord(i) if i.isalpha() else int(i) for i in slce]))\n",
    "\n",
    "  # multiply by the coefficients, sum up and take the module\n",
    "    return '{0:014b}'.format(sum([a[i]*x[i] for i in range(5)]) % 65536)"
   ]
  },
  {
   "cell_type": "code",
   "execution_count": 4,
   "metadata": {
    "colab": {
     "base_uri": "https://localhost:8080/"
    },
    "id": "GzXId3QM87vP",
    "outputId": "0e2e8806-6b20-45a1-dfc8-56012378ce5e"
   },
   "outputs": [
    {
     "name": "stdout",
     "output_type": "stream",
     "text": [
      "100110110110101\n",
      "15\n",
      "32765\n"
     ]
    }
   ],
   "source": [
    "hashed_value = hash_fun(examples[7])\n",
    "bits = len(hash_fun(examples[2]))\n",
    "N = 2**bits - 3 \n",
    "\n",
    "print(hashed_value)\n",
    "print(bits)\n",
    "print(N) #Number of Buckets"
   ]
  },
  {
   "cell_type": "markdown",
   "metadata": {},
   "source": [
    "Please note that the number of buckets we have is linked to the bits length of the buckets index. In particular, the largest bit length we can have as an output of the hash function is 14, and the number of buckets corresponds exactly to 2^{largest_bit_length}+1."
   ]
  },
  {
   "cell_type": "markdown",
   "metadata": {
    "id": "mfMevJ8U4iZQ"
   },
   "source": [
    "### Q1.2\n",
    "\n",
    "Use your hash function, implement a HyperLogLog structure. Read the dataset sequentially and add it to your HyperLogLog. At the end you have to provide:\n",
    "* The cardinality of the dataset.\n",
    "* The error of your filter."
   ]
  },
  {
   "cell_type": "code",
   "execution_count": 5,
   "metadata": {},
   "outputs": [
    {
     "data": {
      "text/plain": [
       "100100010011"
      ]
     },
     "execution_count": 5,
     "metadata": {},
     "output_type": "execute_result"
    }
   ],
   "source": [
    "b = 11\n",
    "m = 2**11\n",
    "\n",
    "int(hash_fun(examples[0])[0:b+1])+1"
   ]
  },
  {
   "cell_type": "code",
   "execution_count": 3,
   "metadata": {
    "id": "6dPny9cCT87s"
   },
   "outputs": [],
   "source": [
    "registers = defaultdict(int)\n",
    "for i in range(m):\n",
    "    registers[i] = -np.inf\n",
    "\n",
    "\n",
    "with open('hash.txt', 'r') as data:\n",
    "    for line in data:\n",
    "        x = hash_fun(line)\n",
    "        j = 1 + x[0:b+1]\n",
    "        w = np.prod([int(i) for i in x[b+1:]])"
   ]
  },
  {
   "cell_type": "code",
   "execution_count": null,
   "metadata": {
    "id": "T1etTyN5AOXm"
   },
   "outputs": [],
   "source": []
  }
 ],
 "metadata": {
  "colab": {
   "name": "ADM - HMW4.ipynb",
   "provenance": []
  },
  "kernelspec": {
   "display_name": "Python 3",
   "language": "python",
   "name": "python3"
  },
  "language_info": {
   "codemirror_mode": {
    "name": "ipython",
    "version": 3
   },
   "file_extension": ".py",
   "mimetype": "text/x-python",
   "name": "python",
   "nbconvert_exporter": "python",
   "pygments_lexer": "ipython3",
   "version": "3.8.5"
  }
 },
 "nbformat": 4,
 "nbformat_minor": 4
}
