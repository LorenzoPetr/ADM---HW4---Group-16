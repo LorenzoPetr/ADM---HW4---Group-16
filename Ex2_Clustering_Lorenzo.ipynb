{
 "cells": [
  {
   "cell_type": "markdown",
   "metadata": {},
   "source": [
    "# Ex. 2: Clustering"
   ]
  },
  {
   "cell_type": "code",
   "execution_count": 2,
   "metadata": {},
   "outputs": [],
   "source": [
    "import pandas as pd\n",
    "import numpy as np\n",
    "import random\n",
    "import nltk\n",
    "from nltk.corpus import stopwords\n",
    "from nltk.stem import WordNetLemmatizer\n",
    "from nltk.tokenize import word_tokenize\n",
    "import matplotlib.pyplot as plt\n",
    "from tqdm import tqdm\n",
    "import wordcloud\n",
    "from wordcloud import WordCloud\n",
    "from sklearn.decomposition import TruncatedSVD\n",
    "from sklearn.feature_extraction.text import TfidfVectorizer,CountVectorizer"
   ]
  },
  {
   "cell_type": "code",
   "execution_count": 6,
   "metadata": {},
   "outputs": [],
   "source": [
    "data = pd.read_csv('Reviews.csv').head(1000)"
   ]
  },
  {
   "cell_type": "code",
   "execution_count": 7,
   "metadata": {},
   "outputs": [
    {
     "data": {
      "text/plain": [
       "(1000, 10)"
      ]
     },
     "execution_count": 7,
     "metadata": {},
     "output_type": "execute_result"
    }
   ],
   "source": [
    "data.shape"
   ]
  },
  {
   "cell_type": "code",
   "execution_count": 8,
   "metadata": {},
   "outputs": [
    {
     "data": {
      "text/plain": [
       "Id                        0\n",
       "ProductId                 0\n",
       "UserId                    0\n",
       "ProfileName               0\n",
       "HelpfulnessNumerator      0\n",
       "HelpfulnessDenominator    0\n",
       "Score                     0\n",
       "Time                      0\n",
       "Summary                   0\n",
       "Text                      0\n",
       "dtype: int64"
      ]
     },
     "execution_count": 8,
     "metadata": {},
     "output_type": "execute_result"
    }
   ],
   "source": [
    "#data clean up\n",
    "data.isnull().sum()"
   ]
  },
  {
   "cell_type": "code",
   "execution_count": 9,
   "metadata": {},
   "outputs": [],
   "source": [
    "data.ProfileName.fillna('', inplace=True)\n",
    "data.Summary.fillna('', inplace=True)"
   ]
  },
  {
   "cell_type": "code",
   "execution_count": 10,
   "metadata": {},
   "outputs": [],
   "source": [
    "data.set_index('Id', inplace = True) #Id has become our index"
   ]
  },
  {
   "cell_type": "code",
   "execution_count": 11,
   "metadata": {},
   "outputs": [
    {
     "data": {
      "text/html": [
       "<div>\n",
       "<style scoped>\n",
       "    .dataframe tbody tr th:only-of-type {\n",
       "        vertical-align: middle;\n",
       "    }\n",
       "\n",
       "    .dataframe tbody tr th {\n",
       "        vertical-align: top;\n",
       "    }\n",
       "\n",
       "    .dataframe thead th {\n",
       "        text-align: right;\n",
       "    }\n",
       "</style>\n",
       "<table border=\"1\" class=\"dataframe\">\n",
       "  <thead>\n",
       "    <tr style=\"text-align: right;\">\n",
       "      <th></th>\n",
       "      <th>ProductId</th>\n",
       "      <th>UserId</th>\n",
       "      <th>ProfileName</th>\n",
       "      <th>HelpfulnessNumerator</th>\n",
       "      <th>HelpfulnessDenominator</th>\n",
       "      <th>Score</th>\n",
       "      <th>Time</th>\n",
       "      <th>Summary</th>\n",
       "      <th>Text</th>\n",
       "    </tr>\n",
       "    <tr>\n",
       "      <th>Id</th>\n",
       "      <th></th>\n",
       "      <th></th>\n",
       "      <th></th>\n",
       "      <th></th>\n",
       "      <th></th>\n",
       "      <th></th>\n",
       "      <th></th>\n",
       "      <th></th>\n",
       "      <th></th>\n",
       "    </tr>\n",
       "  </thead>\n",
       "  <tbody>\n",
       "    <tr>\n",
       "      <th>1</th>\n",
       "      <td>B001E4KFG0</td>\n",
       "      <td>A3SGXH7AUHU8GW</td>\n",
       "      <td>delmartian</td>\n",
       "      <td>1</td>\n",
       "      <td>1</td>\n",
       "      <td>5</td>\n",
       "      <td>1303862400</td>\n",
       "      <td>Good Quality Dog Food</td>\n",
       "      <td>I have bought several of the Vitality canned d...</td>\n",
       "    </tr>\n",
       "    <tr>\n",
       "      <th>2</th>\n",
       "      <td>B00813GRG4</td>\n",
       "      <td>A1D87F6ZCVE5NK</td>\n",
       "      <td>dll pa</td>\n",
       "      <td>0</td>\n",
       "      <td>0</td>\n",
       "      <td>1</td>\n",
       "      <td>1346976000</td>\n",
       "      <td>Not as Advertised</td>\n",
       "      <td>Product arrived labeled as Jumbo Salted Peanut...</td>\n",
       "    </tr>\n",
       "    <tr>\n",
       "      <th>3</th>\n",
       "      <td>B000LQOCH0</td>\n",
       "      <td>ABXLMWJIXXAIN</td>\n",
       "      <td>Natalia Corres \"Natalia Corres\"</td>\n",
       "      <td>1</td>\n",
       "      <td>1</td>\n",
       "      <td>4</td>\n",
       "      <td>1219017600</td>\n",
       "      <td>\"Delight\" says it all</td>\n",
       "      <td>This is a confection that has been around a fe...</td>\n",
       "    </tr>\n",
       "    <tr>\n",
       "      <th>4</th>\n",
       "      <td>B000UA0QIQ</td>\n",
       "      <td>A395BORC6FGVXV</td>\n",
       "      <td>Karl</td>\n",
       "      <td>3</td>\n",
       "      <td>3</td>\n",
       "      <td>2</td>\n",
       "      <td>1307923200</td>\n",
       "      <td>Cough Medicine</td>\n",
       "      <td>If you are looking for the secret ingredient i...</td>\n",
       "    </tr>\n",
       "    <tr>\n",
       "      <th>5</th>\n",
       "      <td>B006K2ZZ7K</td>\n",
       "      <td>A1UQRSCLF8GW1T</td>\n",
       "      <td>Michael D. Bigham \"M. Wassir\"</td>\n",
       "      <td>0</td>\n",
       "      <td>0</td>\n",
       "      <td>5</td>\n",
       "      <td>1350777600</td>\n",
       "      <td>Great taffy</td>\n",
       "      <td>Great taffy at a great price.  There was a wid...</td>\n",
       "    </tr>\n",
       "    <tr>\n",
       "      <th>...</th>\n",
       "      <td>...</td>\n",
       "      <td>...</td>\n",
       "      <td>...</td>\n",
       "      <td>...</td>\n",
       "      <td>...</td>\n",
       "      <td>...</td>\n",
       "      <td>...</td>\n",
       "      <td>...</td>\n",
       "      <td>...</td>\n",
       "    </tr>\n",
       "    <tr>\n",
       "      <th>996</th>\n",
       "      <td>B006F2NYI2</td>\n",
       "      <td>A1D3F6UI1RTXO0</td>\n",
       "      <td>Swopes</td>\n",
       "      <td>1</td>\n",
       "      <td>1</td>\n",
       "      <td>5</td>\n",
       "      <td>1331856000</td>\n",
       "      <td>Hot &amp; Flavorful</td>\n",
       "      <td>BLACK MARKET HOT SAUCE IS WONDERFUL.... My hus...</td>\n",
       "    </tr>\n",
       "    <tr>\n",
       "      <th>997</th>\n",
       "      <td>B006F2NYI2</td>\n",
       "      <td>AF50D40Y85TV3</td>\n",
       "      <td>Mike A.</td>\n",
       "      <td>1</td>\n",
       "      <td>1</td>\n",
       "      <td>5</td>\n",
       "      <td>1328140800</td>\n",
       "      <td>Great Hot Sauce and people who run it!</td>\n",
       "      <td>Man what can i say, this salsa is the bomb!! i...</td>\n",
       "    </tr>\n",
       "    <tr>\n",
       "      <th>998</th>\n",
       "      <td>B006F2NYI2</td>\n",
       "      <td>A3G313KLWDG3PW</td>\n",
       "      <td>kefka82</td>\n",
       "      <td>1</td>\n",
       "      <td>1</td>\n",
       "      <td>5</td>\n",
       "      <td>1324252800</td>\n",
       "      <td>this sauce is the shiznit</td>\n",
       "      <td>this sauce is so good with just about anything...</td>\n",
       "    </tr>\n",
       "    <tr>\n",
       "      <th>999</th>\n",
       "      <td>B006F2NYI2</td>\n",
       "      <td>A3NIDDT7E7JIFW</td>\n",
       "      <td>V. B. Brookshaw</td>\n",
       "      <td>1</td>\n",
       "      <td>2</td>\n",
       "      <td>1</td>\n",
       "      <td>1336089600</td>\n",
       "      <td>Not Hot</td>\n",
       "      <td>Not hot at all. Like the other low star review...</td>\n",
       "    </tr>\n",
       "    <tr>\n",
       "      <th>1000</th>\n",
       "      <td>B006F2NYI2</td>\n",
       "      <td>A132DJVI37RB4X</td>\n",
       "      <td>Scottdrum</td>\n",
       "      <td>2</td>\n",
       "      <td>5</td>\n",
       "      <td>2</td>\n",
       "      <td>1332374400</td>\n",
       "      <td>Not hot, not habanero</td>\n",
       "      <td>I have to admit, I was a sucker for the large ...</td>\n",
       "    </tr>\n",
       "  </tbody>\n",
       "</table>\n",
       "<p>1000 rows × 9 columns</p>\n",
       "</div>"
      ],
      "text/plain": [
       "       ProductId          UserId                      ProfileName  \\\n",
       "Id                                                                  \n",
       "1     B001E4KFG0  A3SGXH7AUHU8GW                       delmartian   \n",
       "2     B00813GRG4  A1D87F6ZCVE5NK                           dll pa   \n",
       "3     B000LQOCH0   ABXLMWJIXXAIN  Natalia Corres \"Natalia Corres\"   \n",
       "4     B000UA0QIQ  A395BORC6FGVXV                             Karl   \n",
       "5     B006K2ZZ7K  A1UQRSCLF8GW1T    Michael D. Bigham \"M. Wassir\"   \n",
       "...          ...             ...                              ...   \n",
       "996   B006F2NYI2  A1D3F6UI1RTXO0                           Swopes   \n",
       "997   B006F2NYI2   AF50D40Y85TV3                          Mike A.   \n",
       "998   B006F2NYI2  A3G313KLWDG3PW                          kefka82   \n",
       "999   B006F2NYI2  A3NIDDT7E7JIFW                  V. B. Brookshaw   \n",
       "1000  B006F2NYI2  A132DJVI37RB4X                        Scottdrum   \n",
       "\n",
       "      HelpfulnessNumerator  HelpfulnessDenominator  Score        Time  \\\n",
       "Id                                                                      \n",
       "1                        1                       1      5  1303862400   \n",
       "2                        0                       0      1  1346976000   \n",
       "3                        1                       1      4  1219017600   \n",
       "4                        3                       3      2  1307923200   \n",
       "5                        0                       0      5  1350777600   \n",
       "...                    ...                     ...    ...         ...   \n",
       "996                      1                       1      5  1331856000   \n",
       "997                      1                       1      5  1328140800   \n",
       "998                      1                       1      5  1324252800   \n",
       "999                      1                       2      1  1336089600   \n",
       "1000                     2                       5      2  1332374400   \n",
       "\n",
       "                                     Summary  \\\n",
       "Id                                             \n",
       "1                      Good Quality Dog Food   \n",
       "2                          Not as Advertised   \n",
       "3                      \"Delight\" says it all   \n",
       "4                             Cough Medicine   \n",
       "5                                Great taffy   \n",
       "...                                      ...   \n",
       "996                          Hot & Flavorful   \n",
       "997   Great Hot Sauce and people who run it!   \n",
       "998                this sauce is the shiznit   \n",
       "999                                  Not Hot   \n",
       "1000                   Not hot, not habanero   \n",
       "\n",
       "                                                   Text  \n",
       "Id                                                       \n",
       "1     I have bought several of the Vitality canned d...  \n",
       "2     Product arrived labeled as Jumbo Salted Peanut...  \n",
       "3     This is a confection that has been around a fe...  \n",
       "4     If you are looking for the secret ingredient i...  \n",
       "5     Great taffy at a great price.  There was a wid...  \n",
       "...                                                 ...  \n",
       "996   BLACK MARKET HOT SAUCE IS WONDERFUL.... My hus...  \n",
       "997   Man what can i say, this salsa is the bomb!! i...  \n",
       "998   this sauce is so good with just about anything...  \n",
       "999   Not hot at all. Like the other low star review...  \n",
       "1000  I have to admit, I was a sucker for the large ...  \n",
       "\n",
       "[1000 rows x 9 columns]"
      ]
     },
     "execution_count": 11,
     "metadata": {},
     "output_type": "execute_result"
    }
   ],
   "source": [
    "data"
   ]
  },
  {
   "cell_type": "code",
   "execution_count": 12,
   "metadata": {},
   "outputs": [
    {
     "data": {
      "text/plain": [
       "1303862400"
      ]
     },
     "execution_count": 12,
     "metadata": {},
     "output_type": "execute_result"
    }
   ],
   "source": [
    "data.iloc[0].Time"
   ]
  },
  {
   "cell_type": "code",
   "execution_count": 13,
   "metadata": {},
   "outputs": [
    {
     "data": {
      "text/plain": [
       "Timestamp('1970-01-01 00:21:43.862400')"
      ]
     },
     "execution_count": 13,
     "metadata": {},
     "output_type": "execute_result"
    }
   ],
   "source": [
    "pd.to_datetime(data.iloc[0].Time*1000) #to get seconds"
   ]
  },
  {
   "cell_type": "code",
   "execution_count": 14,
   "metadata": {},
   "outputs": [],
   "source": [
    "data['Datetime'] = data.Time.apply(lambda val: pd.to_datetime(val,unit='s'))"
   ]
  },
  {
   "cell_type": "markdown",
   "metadata": {},
   "source": [
    "## Some initial visualization\n",
    "#### Distibution of the score 1to5\n",
    "#### Num of ratings per products"
   ]
  },
  {
   "cell_type": "code",
   "execution_count": 13,
   "metadata": {},
   "outputs": [
    {
     "data": {
      "text/plain": [
       "<matplotlib.axes._subplots.AxesSubplot at 0x7fc030096340>"
      ]
     },
     "execution_count": 13,
     "metadata": {},
     "output_type": "execute_result"
    },
    {
     "data": {
      "image/png": "[encoded data removed]",
      "text/plain": [
       "<Figure size 432x288 with 1 Axes>"
      ]
     },
     "metadata": {
      "needs_background": "light"
     },
     "output_type": "display_data"
    }
   ],
   "source": [
    "data['Score'].hist(bins=5)"
   ]
  },
  {
   "cell_type": "code",
   "execution_count": 14,
   "metadata": {},
   "outputs": [
    {
     "data": {
      "text/plain": [
       "<matplotlib.axes._subplots.AxesSubplot at 0x7fc0348a7430>"
      ]
     },
     "execution_count": 14,
     "metadata": {},
     "output_type": "execute_result"
    },
    {
     "data": {
      "image/png": "[encoded data removed]",
      "text/plain": [
       "<Figure size 1296x288 with 1 Axes>"
      ]
     },
     "metadata": {
      "needs_background": "light"
     },
     "output_type": "display_data"
    }
   ],
   "source": [
    "ratPprod = data.groupby(['ProductId']).Score.count()\n",
    "ratPprod.plot.hist(bins=60, figsize=(18,4))"
   ]
  },
  {
   "cell_type": "code",
   "execution_count": 15,
   "metadata": {},
   "outputs": [
    {
     "data": {
      "text/plain": [
       "<matplotlib.axes._subplots.AxesSubplot at 0x7fc032d01f70>"
      ]
     },
     "execution_count": 15,
     "metadata": {},
     "output_type": "execute_result"
    },
    {
     "data": {
      "image/png": "[encoded data removed]",
      "text/plain": [
       "<Figure size 1296x288 with 1 Axes>"
      ]
     },
     "metadata": {
      "needs_background": "light"
     },
     "output_type": "display_data"
    }
   ],
   "source": [
    "#distro of num of ratings with a score >2\n",
    "ratPprod = data[data.Score > 2].groupby(['ProductId']).Score.count()\n",
    "ratPprod.plot.hist(bins=50, figsize=(18,4))"
   ]
  },
  {
   "cell_type": "code",
   "execution_count": 16,
   "metadata": {},
   "outputs": [
    {
     "data": {
      "text/plain": [
       "74258"
      ]
     },
     "execution_count": 16,
     "metadata": {},
     "output_type": "execute_result"
    }
   ],
   "source": [
    "len(data.ProductId.unique())"
   ]
  },
  {
   "cell_type": "code",
   "execution_count": 17,
   "metadata": {},
   "outputs": [
    {
     "data": {
      "text/plain": [
       "<matplotlib.axes._subplots.AxesSubplot at 0x7fc032bfcf10>"
      ]
     },
     "execution_count": 17,
     "metadata": {},
     "output_type": "execute_result"
    },
    {
     "data": {
      "image/png": "[encoded data removed]",
      "text/plain": [
       "<Figure size 432x288 with 1 Axes>"
      ]
     },
     "metadata": {
      "needs_background": "light"
     },
     "output_type": "display_data"
    }
   ],
   "source": [
    "#distro of num of ratings per products, including products with at least 2 ratings\n",
    "aux1 = data.groupby(['ProductId']).count()\n",
    "aux1[aux1.UserId>1].UserId.hist()"
   ]
  },
  {
   "cell_type": "code",
   "execution_count": 18,
   "metadata": {},
   "outputs": [
    {
     "data": {
      "text/plain": [
       "<matplotlib.axes._subplots.AxesSubplot at 0x7fc032b6bb80>"
      ]
     },
     "execution_count": 18,
     "metadata": {},
     "output_type": "execute_result"
    },
    {
     "data": {
      "image/png": "[encoded data removed]",
      "text/plain": [
       "<Figure size 432x288 with 1 Axes>"
      ]
     },
     "metadata": {
      "needs_background": "light"
     },
     "output_type": "display_data"
    }
   ],
   "source": [
    "### distribution of average score per user\n",
    "data.groupby('UserId').Score.mean().plot.hist()"
   ]
  },
  {
   "cell_type": "markdown",
   "metadata": {},
   "source": [
    "### visual/analysis of data"
   ]
  },
  {
   "cell_type": "code",
   "execution_count": 18,
   "metadata": {},
   "outputs": [
    {
     "data": {
      "text/html": [
       "<div>\n",
       "<style scoped>\n",
       "    .dataframe tbody tr th:only-of-type {\n",
       "        vertical-align: middle;\n",
       "    }\n",
       "\n",
       "    .dataframe tbody tr th {\n",
       "        vertical-align: top;\n",
       "    }\n",
       "\n",
       "    .dataframe thead th {\n",
       "        text-align: right;\n",
       "    }\n",
       "</style>\n",
       "<table border=\"1\" class=\"dataframe\">\n",
       "  <thead>\n",
       "    <tr style=\"text-align: right;\">\n",
       "      <th></th>\n",
       "      <th>ProductId</th>\n",
       "      <th>UserId</th>\n",
       "      <th>ProfileName</th>\n",
       "      <th>HelpfulnessNumerator</th>\n",
       "      <th>HelpfulnessDenominator</th>\n",
       "      <th>Score</th>\n",
       "      <th>Time</th>\n",
       "      <th>Summary</th>\n",
       "      <th>Text</th>\n",
       "      <th>Datetime</th>\n",
       "    </tr>\n",
       "    <tr>\n",
       "      <th>Datetime</th>\n",
       "      <th></th>\n",
       "      <th></th>\n",
       "      <th></th>\n",
       "      <th></th>\n",
       "      <th></th>\n",
       "      <th></th>\n",
       "      <th></th>\n",
       "      <th></th>\n",
       "      <th></th>\n",
       "      <th></th>\n",
       "    </tr>\n",
       "  </thead>\n",
       "  <tbody>\n",
       "    <tr>\n",
       "      <th>1</th>\n",
       "      <td>50367</td>\n",
       "      <td>50367</td>\n",
       "      <td>50367</td>\n",
       "      <td>50367</td>\n",
       "      <td>50367</td>\n",
       "      <td>50367</td>\n",
       "      <td>50367</td>\n",
       "      <td>50367</td>\n",
       "      <td>50367</td>\n",
       "      <td>50367</td>\n",
       "    </tr>\n",
       "    <tr>\n",
       "      <th>2</th>\n",
       "      <td>45356</td>\n",
       "      <td>45356</td>\n",
       "      <td>45356</td>\n",
       "      <td>45356</td>\n",
       "      <td>45356</td>\n",
       "      <td>45356</td>\n",
       "      <td>45356</td>\n",
       "      <td>45356</td>\n",
       "      <td>45356</td>\n",
       "      <td>45356</td>\n",
       "    </tr>\n",
       "    <tr>\n",
       "      <th>3</th>\n",
       "      <td>48367</td>\n",
       "      <td>48367</td>\n",
       "      <td>48367</td>\n",
       "      <td>48367</td>\n",
       "      <td>48367</td>\n",
       "      <td>48367</td>\n",
       "      <td>48367</td>\n",
       "      <td>48367</td>\n",
       "      <td>48367</td>\n",
       "      <td>48367</td>\n",
       "    </tr>\n",
       "    <tr>\n",
       "      <th>4</th>\n",
       "      <td>44473</td>\n",
       "      <td>44473</td>\n",
       "      <td>44473</td>\n",
       "      <td>44473</td>\n",
       "      <td>44473</td>\n",
       "      <td>44473</td>\n",
       "      <td>44473</td>\n",
       "      <td>44473</td>\n",
       "      <td>44473</td>\n",
       "      <td>44473</td>\n",
       "    </tr>\n",
       "    <tr>\n",
       "      <th>5</th>\n",
       "      <td>46226</td>\n",
       "      <td>46226</td>\n",
       "      <td>46226</td>\n",
       "      <td>46226</td>\n",
       "      <td>46226</td>\n",
       "      <td>46226</td>\n",
       "      <td>46226</td>\n",
       "      <td>46226</td>\n",
       "      <td>46226</td>\n",
       "      <td>46226</td>\n",
       "    </tr>\n",
       "    <tr>\n",
       "      <th>6</th>\n",
       "      <td>44479</td>\n",
       "      <td>44479</td>\n",
       "      <td>44479</td>\n",
       "      <td>44479</td>\n",
       "      <td>44479</td>\n",
       "      <td>44479</td>\n",
       "      <td>44479</td>\n",
       "      <td>44479</td>\n",
       "      <td>44479</td>\n",
       "      <td>44479</td>\n",
       "    </tr>\n",
       "    <tr>\n",
       "      <th>7</th>\n",
       "      <td>48419</td>\n",
       "      <td>48419</td>\n",
       "      <td>48419</td>\n",
       "      <td>48419</td>\n",
       "      <td>48419</td>\n",
       "      <td>48419</td>\n",
       "      <td>48419</td>\n",
       "      <td>48419</td>\n",
       "      <td>48419</td>\n",
       "      <td>48419</td>\n",
       "    </tr>\n",
       "    <tr>\n",
       "      <th>8</th>\n",
       "      <td>50526</td>\n",
       "      <td>50526</td>\n",
       "      <td>50526</td>\n",
       "      <td>50526</td>\n",
       "      <td>50526</td>\n",
       "      <td>50526</td>\n",
       "      <td>50526</td>\n",
       "      <td>50526</td>\n",
       "      <td>50526</td>\n",
       "      <td>50526</td>\n",
       "    </tr>\n",
       "    <tr>\n",
       "      <th>9</th>\n",
       "      <td>55740</td>\n",
       "      <td>55740</td>\n",
       "      <td>55740</td>\n",
       "      <td>55740</td>\n",
       "      <td>55740</td>\n",
       "      <td>55740</td>\n",
       "      <td>55740</td>\n",
       "      <td>55740</td>\n",
       "      <td>55740</td>\n",
       "      <td>55740</td>\n",
       "    </tr>\n",
       "    <tr>\n",
       "      <th>10</th>\n",
       "      <td>55762</td>\n",
       "      <td>55762</td>\n",
       "      <td>55762</td>\n",
       "      <td>55762</td>\n",
       "      <td>55762</td>\n",
       "      <td>55762</td>\n",
       "      <td>55762</td>\n",
       "      <td>55762</td>\n",
       "      <td>55762</td>\n",
       "      <td>55762</td>\n",
       "    </tr>\n",
       "    <tr>\n",
       "      <th>11</th>\n",
       "      <td>36986</td>\n",
       "      <td>36986</td>\n",
       "      <td>36986</td>\n",
       "      <td>36986</td>\n",
       "      <td>36986</td>\n",
       "      <td>36986</td>\n",
       "      <td>36986</td>\n",
       "      <td>36986</td>\n",
       "      <td>36986</td>\n",
       "      <td>36986</td>\n",
       "    </tr>\n",
       "    <tr>\n",
       "      <th>12</th>\n",
       "      <td>41753</td>\n",
       "      <td>41753</td>\n",
       "      <td>41753</td>\n",
       "      <td>41753</td>\n",
       "      <td>41753</td>\n",
       "      <td>41753</td>\n",
       "      <td>41753</td>\n",
       "      <td>41753</td>\n",
       "      <td>41753</td>\n",
       "      <td>41753</td>\n",
       "    </tr>\n",
       "  </tbody>\n",
       "</table>\n",
       "</div>"
      ],
      "text/plain": [
       "          ProductId  UserId  ProfileName  HelpfulnessNumerator  \\\n",
       "Datetime                                                         \n",
       "1             50367   50367        50367                 50367   \n",
       "2             45356   45356        45356                 45356   \n",
       "3             48367   48367        48367                 48367   \n",
       "4             44473   44473        44473                 44473   \n",
       "5             46226   46226        46226                 46226   \n",
       "6             44479   44479        44479                 44479   \n",
       "7             48419   48419        48419                 48419   \n",
       "8             50526   50526        50526                 50526   \n",
       "9             55740   55740        55740                 55740   \n",
       "10            55762   55762        55762                 55762   \n",
       "11            36986   36986        36986                 36986   \n",
       "12            41753   41753        41753                 41753   \n",
       "\n",
       "          HelpfulnessDenominator  Score   Time  Summary   Text  Datetime  \n",
       "Datetime                                                                  \n",
       "1                          50367  50367  50367    50367  50367     50367  \n",
       "2                          45356  45356  45356    45356  45356     45356  \n",
       "3                          48367  48367  48367    48367  48367     48367  \n",
       "4                          44473  44473  44473    44473  44473     44473  \n",
       "5                          46226  46226  46226    46226  46226     46226  \n",
       "6                          44479  44479  44479    44479  44479     44479  \n",
       "7                          48419  48419  48419    48419  48419     48419  \n",
       "8                          50526  50526  50526    50526  50526     50526  \n",
       "9                          55740  55740  55740    55740  55740     55740  \n",
       "10                         55762  55762  55762    55762  55762     55762  \n",
       "11                         36986  36986  36986    36986  36986     36986  \n",
       "12                         41753  41753  41753    41753  41753     41753  "
      ]
     },
     "execution_count": 18,
     "metadata": {},
     "output_type": "execute_result"
    }
   ],
   "source": [
    "data.groupby(data.Datetime.dt.month).count()"
   ]
  },
  {
   "cell_type": "markdown",
   "metadata": {},
   "source": [
    "### Heatmap of scores vs month"
   ]
  },
  {
   "cell_type": "code",
   "execution_count": 19,
   "metadata": {},
   "outputs": [],
   "source": [
    "dt=data.groupby([data.Datetime.dt.month,data.Score]).ProductId.count()"
   ]
  },
  {
   "cell_type": "code",
   "execution_count": 25,
   "metadata": {},
   "outputs": [
    {
     "data": {
      "text/plain": [
       "<matplotlib.axes._subplots.AxesSubplot at 0x7f7c6f9fc2e0>"
      ]
     },
     "execution_count": 25,
     "metadata": {},
     "output_type": "execute_result"
    },
    {
     "data": {
      "image/png": "[encoded data removed]",
      "text/plain": [
       "<Figure size 432x288 with 2 Axes>"
      ]
     },
     "metadata": {
      "needs_background": "light"
     },
     "output_type": "display_data"
    }
   ],
   "source": [
    "import seaborn as sns \n",
    "\n",
    "d={}\n",
    "for month in range(1,13):\n",
    "    d[month]=dt[month].tolist()\n",
    "sns.heatmap(pd.DataFrame.from_dict(d,orient='index',columns=[1,2,3,4,5]), cmap='RdYlGn_r')"
   ]
  },
  {
   "cell_type": "markdown",
   "metadata": {},
   "source": [
    "### heatmap of day of week vs month"
   ]
  },
  {
   "cell_type": "code",
   "execution_count": 21,
   "metadata": {},
   "outputs": [],
   "source": [
    "hist_dayofweek_month = {}\n",
    "\n",
    "for dayofweek in range(1,7):\n",
    "    hist_dayofweek_month[dayofweek] = data[data.Datetime.dt.dayofweek == dayofweek].groupby"
   ]
  },
  {
   "cell_type": "code",
   "execution_count": 27,
   "metadata": {},
   "outputs": [
    {
     "ename": "TypeError",
     "evalue": "__init__() got an unexpected keyword argument 'orient'",
     "output_type": "error",
     "traceback": [
      "\u001b[0;31m---------------------------------------------------------------------------\u001b[0m",
      "\u001b[0;31mTypeError\u001b[0m                                 Traceback (most recent call last)",
      "\u001b[0;32m<ipython-input-27-3836431e80e4>\u001b[0m in \u001b[0;36m<module>\u001b[0;34m\u001b[0m\n\u001b[0;32m----> 1\u001b[0;31m \u001b[0msns\u001b[0m\u001b[0;34m.\u001b[0m\u001b[0mheatmap\u001b[0m\u001b[0;34m(\u001b[0m\u001b[0mpd\u001b[0m\u001b[0;34m.\u001b[0m\u001b[0mDataFrame\u001b[0m\u001b[0;34m(\u001b[0m\u001b[0mhist_dayofweek_month\u001b[0m\u001b[0;34m,\u001b[0m \u001b[0morient\u001b[0m\u001b[0;34m=\u001b[0m\u001b[0;34m'index'\u001b[0m\u001b[0;34m)\u001b[0m\u001b[0;34m,\u001b[0m\u001b[0mcmap\u001b[0m\u001b[0;34m=\u001b[0m\u001b[0;34m'RdYlGn_r'\u001b[0m\u001b[0;34m)\u001b[0m\u001b[0;34m\u001b[0m\u001b[0;34m\u001b[0m\u001b[0m\n\u001b[0m",
      "\u001b[0;31mTypeError\u001b[0m: __init__() got an unexpected keyword argument 'orient'"
     ]
    }
   ],
   "source": [
    "sns.heatmap(pd.DataFrame(hist_dayofweek_month, orient='index'),cmap='RdYlGn_r')"
   ]
  },
  {
   "cell_type": "code",
   "execution_count": 28,
   "metadata": {},
   "outputs": [],
   "source": [
    "hist_dayofweek_month_mean = {}\n",
    "\n",
    "for dayofweek in range(1,7):\n",
    "    hist_dayofweek_month[dayofweek] = data[data.Datetime.dt.dayofweek == dayofweek].groupby"
   ]
  },
  {
   "cell_type": "markdown",
   "metadata": {},
   "source": [
    "# look into the text"
   ]
  },
  {
   "cell_type": "code",
   "execution_count": 15,
   "metadata": {},
   "outputs": [],
   "source": [
    "lemmatizer = WordNetLemmatizer()"
   ]
  },
  {
   "cell_type": "code",
   "execution_count": 16,
   "metadata": {},
   "outputs": [],
   "source": [
    "stop_words = set(stopwords.words('english'))"
   ]
  },
  {
   "cell_type": "code",
   "execution_count": 17,
   "metadata": {},
   "outputs": [],
   "source": [
    "def clean_text(text):\n",
    "    words = word_tokenize(text)\n",
    "    good_words = []\n",
    "    for word in words:\n",
    "        if word.lower() not in stop_words and word.isalpha():\n",
    "            good_words.append(word.lower())\n",
    "            \n",
    "    return good_words"
   ]
  },
  {
   "cell_type": "code",
   "execution_count": 18,
   "metadata": {},
   "outputs": [],
   "source": [
    "wordlist = data['Text'].apply(lambda text:clean_text(text))"
   ]
  },
  {
   "cell_type": "code",
   "execution_count": 19,
   "metadata": {},
   "outputs": [
    {
     "data": {
      "text/plain": [
       "Id\n",
       "1       [bought, several, vitality, canned, dog, food,...\n",
       "2       [product, arrived, labeled, jumbo, salted, pea...\n",
       "3       [confection, around, centuries, light, pillowy...\n",
       "4       [looking, secret, ingredient, robitussin, beli...\n",
       "5       [great, taffy, great, price, wide, assortment,...\n",
       "                              ...                        \n",
       "996     [black, market, hot, sauce, wonderful, husband...\n",
       "997     [man, say, salsa, bomb, different, kinds, almo...\n",
       "998     [sauce, good, anything, like, adding, asian, f...\n",
       "999     [hot, like, low, star, reviewer, got, suckered...\n",
       "1000    [admit, sucker, large, quantity, oz, shopping,...\n",
       "Name: Text, Length: 1000, dtype: object"
      ]
     },
     "execution_count": 19,
     "metadata": {},
     "output_type": "execute_result"
    }
   ],
   "source": [
    "wordlist"
   ]
  },
  {
   "cell_type": "code",
   "execution_count": 40,
   "metadata": {},
   "outputs": [
    {
     "name": "stderr",
     "output_type": "stream",
     "text": [
      "[nltk_data] Downloading package averaged_perceptron_tagger to\n",
      "[nltk_data]     /home/lorenzo/nltk_data...\n",
      "[nltk_data]   Unzipping taggers/averaged_perceptron_tagger.zip.\n"
     ]
    },
    {
     "data": {
      "text/plain": [
       "True"
      ]
     },
     "execution_count": 40,
     "metadata": {},
     "output_type": "execute_result"
    }
   ],
   "source": [
    "import nltk\n",
    "from textblob import TextBlob\n",
    "nltk.download('averaged_perceptron_tagger')"
   ]
  },
  {
   "cell_type": "code",
   "execution_count": 116,
   "metadata": {},
   "outputs": [],
   "source": [
    "#FUNZIONA\n",
    "def listToString(s):  \n",
    "    \n",
    "    # initialize an empty string \n",
    "    str1 = \" \" \n",
    "    \n",
    "    # return string   \n",
    "    return (str1.join(str(s))) \n",
    "  \n",
    "def get_main_topic(text):\n",
    "    \n",
    "    blob = TextBlob(text)\n",
    "\n",
    "    return [ word.lower() for (word,tag) in blob.tags if tag == \"NNP\" and tag != \"VBZ\" and tag != \"DT\" and tag != \"JJ\" and tag != \"NN\"]\n",
    "\n",
    "data['Main topic'] = listToString(data['Text'].apply(get_main_topic))"
   ]
  },
  {
   "cell_type": "code",
   "execution_count": 118,
   "metadata": {},
   "outputs": [
    {
     "data": {
      "text/plain": [
       "Id\n",
       "1       I d \\n 1                                      ...\n",
       "2       I d \\n 1                                      ...\n",
       "3       I d \\n 1                                      ...\n",
       "4       I d \\n 1                                      ...\n",
       "5       I d \\n 1                                      ...\n",
       "                              ...                        \n",
       "996     I d \\n 1                                      ...\n",
       "997     I d \\n 1                                      ...\n",
       "998     I d \\n 1                                      ...\n",
       "999     I d \\n 1                                      ...\n",
       "1000    I d \\n 1                                      ...\n",
       "Name: Main topic, Length: 1000, dtype: object"
      ]
     },
     "execution_count": 118,
     "metadata": {},
     "output_type": "execute_result"
    }
   ],
   "source": [
    "data['Main topic']"
   ]
  },
  {
   "cell_type": "code",
   "execution_count": 20,
   "metadata": {},
   "outputs": [],
   "source": [
    "data['text_words'] = wordlist"
   ]
  },
  {
   "cell_type": "code",
   "execution_count": 72,
   "metadata": {},
   "outputs": [
    {
     "data": {
      "text/plain": [
       "Id\n",
       "1                                    [vitality, labrador]\n",
       "2                [product, jumbo, salted, peanuts, jumbo]\n",
       "3       [filberts, c.s, lewis, lion, witch, wardrobe, ...\n",
       "4                       [robitussin, root, beer, extract]\n",
       "5                                                 [great]\n",
       "                              ...                        \n",
       "996     [black, market, hot, sauce, is, wonderful, ......\n",
       "997                                                    []\n",
       "998                                                    []\n",
       "999                                           ['habenero]\n",
       "1000    [plastic, /, >, jalapenos, <, /, >, water, <, ...\n",
       "Name: Main topic, Length: 1000, dtype: object"
      ]
     },
     "execution_count": 72,
     "metadata": {},
     "output_type": "execute_result"
    }
   ],
   "source": [
    "data['Main topic']"
   ]
  },
  {
   "cell_type": "code",
   "execution_count": 22,
   "metadata": {},
   "outputs": [
    {
     "ename": "SyntaxError",
     "evalue": "invalid syntax (<ipython-input-22-1c08203d3cdb>, line 1)",
     "output_type": "error",
     "traceback": [
      "\u001b[0;36m  File \u001b[0;32m\"<ipython-input-22-1c08203d3cdb>\"\u001b[0;36m, line \u001b[0;32m1\u001b[0m\n\u001b[0;31m    data['word_count'] = data.text_words.apply(lambda wordlist)\u001b[0m\n\u001b[0m                                                              ^\u001b[0m\n\u001b[0;31mSyntaxError\u001b[0m\u001b[0;31m:\u001b[0m invalid syntax\n"
     ]
    }
   ],
   "source": [
    "data['word_count'] = data.text_words.apply(lambda wordlist)"
   ]
  },
  {
   "cell_type": "code",
   "execution_count": null,
   "metadata": {},
   "outputs": [],
   "source": []
  },
  {
   "cell_type": "markdown",
   "metadata": {},
   "source": [
    "### TFIDF score on the review texts"
   ]
  },
  {
   "cell_type": "code",
   "execution_count": 67,
   "metadata": {},
   "outputs": [],
   "source": [
    "def word_count2(sent):\n",
    "    word2cnt = dict()\n",
    "    for word in sent.split():\n",
    "        if word in word2cnt: word2cnt[word] += 1\n",
    "        else: word2cnt[word] = 1\n",
    "    \n",
    "    return word2cnt"
   ]
  },
  {
   "cell_type": "code",
   "execution_count": 68,
   "metadata": {},
   "outputs": [],
   "source": [
    "#instantiate CountVectorizer() \n",
    "cv=CountVectorizer() \n",
    " \n",
    "# this steps generates word counts for the words in your docs \n",
    "#word_count_vector=cv.fit_transform(docs)\n"
   ]
  },
  {
   "cell_type": "code",
   "execution_count": 69,
   "metadata": {},
   "outputs": [],
   "source": [
    "data['Word_Count'] = data['Text'].apply(word_count2)"
   ]
  },
  {
   "cell_type": "code",
   "execution_count": 30,
   "metadata": {},
   "outputs": [
    {
     "data": {
      "text/plain": [
       "Id\n",
       "1       {'I': 1, 'have': 2, 'bought': 1, 'several': 1,...\n",
       "2       {'Product': 1, 'arrived': 1, 'labeled': 1, 'as...\n",
       "3       {'This': 1, 'is': 5, 'a': 4, 'confection': 1, ...\n",
       "4       {'If': 1, 'you': 1, 'are': 1, 'looking': 1, 'f...\n",
       "5       {'Great': 1, 'taffy': 2, 'at': 1, 'a': 4, 'gre...\n",
       "                              ...                        \n",
       "996     {'BLACK': 1, 'MARKET': 1, 'HOT': 1, 'SAUCE': 1...\n",
       "997     {'Man': 1, 'what': 1, 'can': 1, 'i': 5, 'say,'...\n",
       "998     {'this': 1, 'sauce': 1, 'is': 1, 'so': 1, 'goo...\n",
       "999     {'Not': 1, 'hot': 2, 'at': 1, 'all.': 1, 'Like...\n",
       "1000    {'I': 4, 'have': 3, 'to': 1, 'admit,': 1, 'was...\n",
       "Name: Word_Count, Length: 1000, dtype: object"
      ]
     },
     "execution_count": 30,
     "metadata": {},
     "output_type": "execute_result"
    }
   ],
   "source": [
    "data['Word_Count']"
   ]
  },
  {
   "cell_type": "code",
   "execution_count": 87,
   "metadata": {},
   "outputs": [],
   "source": [
    "v = TfidfVectorizer()"
   ]
  },
  {
   "cell_type": "code",
   "execution_count": 109,
   "metadata": {},
   "outputs": [
    {
     "ename": "AttributeError",
     "evalue": "'list' object has no attribute 'split'",
     "output_type": "error",
     "traceback": [
      "\u001b[0;31m---------------------------------------------------------------------------\u001b[0m",
      "\u001b[0;31mAttributeError\u001b[0m                            Traceback (most recent call last)",
      "\u001b[0;32m<ipython-input-109-b1226017e8ea>\u001b[0m in \u001b[0;36m<module>\u001b[0;34m\u001b[0m\n\u001b[0;32m----> 1\u001b[0;31m \u001b[0mtfidf\u001b[0m \u001b[0;34m=\u001b[0m \u001b[0mdata\u001b[0m\u001b[0;34m[\u001b[0m\u001b[0;34m'Main topic'\u001b[0m\u001b[0;34m]\u001b[0m\u001b[0;34m.\u001b[0m\u001b[0mapply\u001b[0m\u001b[0;34m(\u001b[0m\u001b[0;32mlambda\u001b[0m \u001b[0mtext\u001b[0m\u001b[0;34m:\u001b[0m\u001b[0mv\u001b[0m\u001b[0;34m.\u001b[0m\u001b[0mfit_transform\u001b[0m\u001b[0;34m(\u001b[0m\u001b[0mtext\u001b[0m\u001b[0;34m.\u001b[0m\u001b[0msplit\u001b[0m\u001b[0;34m(\u001b[0m\u001b[0;34m'\\n'\u001b[0m\u001b[0;34m)\u001b[0m\u001b[0;34m)\u001b[0m\u001b[0;34m)\u001b[0m\u001b[0;34m\u001b[0m\u001b[0;34m\u001b[0m\u001b[0m\n\u001b[0m",
      "\u001b[0;32m~/anaconda3/lib/python3.8/site-packages/pandas/core/series.py\u001b[0m in \u001b[0;36mapply\u001b[0;34m(self, func, convert_dtype, args, **kwds)\u001b[0m\n\u001b[1;32m   3846\u001b[0m             \u001b[0;32melse\u001b[0m\u001b[0;34m:\u001b[0m\u001b[0;34m\u001b[0m\u001b[0;34m\u001b[0m\u001b[0m\n\u001b[1;32m   3847\u001b[0m                 \u001b[0mvalues\u001b[0m \u001b[0;34m=\u001b[0m \u001b[0mself\u001b[0m\u001b[0;34m.\u001b[0m\u001b[0mastype\u001b[0m\u001b[0;34m(\u001b[0m\u001b[0mobject\u001b[0m\u001b[0;34m)\u001b[0m\u001b[0;34m.\u001b[0m\u001b[0mvalues\u001b[0m\u001b[0;34m\u001b[0m\u001b[0;34m\u001b[0m\u001b[0m\n\u001b[0;32m-> 3848\u001b[0;31m                 \u001b[0mmapped\u001b[0m \u001b[0;34m=\u001b[0m \u001b[0mlib\u001b[0m\u001b[0;34m.\u001b[0m\u001b[0mmap_infer\u001b[0m\u001b[0;34m(\u001b[0m\u001b[0mvalues\u001b[0m\u001b[0;34m,\u001b[0m \u001b[0mf\u001b[0m\u001b[0;34m,\u001b[0m \u001b[0mconvert\u001b[0m\u001b[0;34m=\u001b[0m\u001b[0mconvert_dtype\u001b[0m\u001b[0;34m)\u001b[0m\u001b[0;34m\u001b[0m\u001b[0;34m\u001b[0m\u001b[0m\n\u001b[0m\u001b[1;32m   3849\u001b[0m \u001b[0;34m\u001b[0m\u001b[0m\n\u001b[1;32m   3850\u001b[0m         \u001b[0;32mif\u001b[0m \u001b[0mlen\u001b[0m\u001b[0;34m(\u001b[0m\u001b[0mmapped\u001b[0m\u001b[0;34m)\u001b[0m \u001b[0;32mand\u001b[0m \u001b[0misinstance\u001b[0m\u001b[0;34m(\u001b[0m\u001b[0mmapped\u001b[0m\u001b[0;34m[\u001b[0m\u001b[0;36m0\u001b[0m\u001b[0;34m]\u001b[0m\u001b[0;34m,\u001b[0m \u001b[0mSeries\u001b[0m\u001b[0;34m)\u001b[0m\u001b[0;34m:\u001b[0m\u001b[0;34m\u001b[0m\u001b[0;34m\u001b[0m\u001b[0m\n",
      "\u001b[0;32mpandas/_libs/lib.pyx\u001b[0m in \u001b[0;36mpandas._libs.lib.map_infer\u001b[0;34m()\u001b[0m\n",
      "\u001b[0;32m<ipython-input-109-b1226017e8ea>\u001b[0m in \u001b[0;36m<lambda>\u001b[0;34m(text)\u001b[0m\n\u001b[0;32m----> 1\u001b[0;31m \u001b[0mtfidf\u001b[0m \u001b[0;34m=\u001b[0m \u001b[0mdata\u001b[0m\u001b[0;34m[\u001b[0m\u001b[0;34m'Main topic'\u001b[0m\u001b[0;34m]\u001b[0m\u001b[0;34m.\u001b[0m\u001b[0mapply\u001b[0m\u001b[0;34m(\u001b[0m\u001b[0;32mlambda\u001b[0m \u001b[0mtext\u001b[0m\u001b[0;34m:\u001b[0m\u001b[0mv\u001b[0m\u001b[0;34m.\u001b[0m\u001b[0mfit_transform\u001b[0m\u001b[0;34m(\u001b[0m\u001b[0mtext\u001b[0m\u001b[0;34m.\u001b[0m\u001b[0msplit\u001b[0m\u001b[0;34m(\u001b[0m\u001b[0;34m'\\n'\u001b[0m\u001b[0;34m)\u001b[0m\u001b[0;34m)\u001b[0m\u001b[0;34m)\u001b[0m\u001b[0;34m\u001b[0m\u001b[0;34m\u001b[0m\u001b[0m\n\u001b[0m",
      "\u001b[0;31mAttributeError\u001b[0m: 'list' object has no attribute 'split'"
     ]
    }
   ],
   "source": [
    "tfidf = data['Main topic'].apply(lambda text:v.fit_transform(text.split('\\n')))"
   ]
  },
  {
   "cell_type": "code",
   "execution_count": 104,
   "metadata": {},
   "outputs": [
    {
     "data": {
      "text/html": [
       "<div>\n",
       "<style scoped>\n",
       "    .dataframe tbody tr th:only-of-type {\n",
       "        vertical-align: middle;\n",
       "    }\n",
       "\n",
       "    .dataframe tbody tr th {\n",
       "        vertical-align: top;\n",
       "    }\n",
       "\n",
       "    .dataframe thead th {\n",
       "        text-align: right;\n",
       "    }\n",
       "</style>\n",
       "<table border=\"1\" class=\"dataframe\">\n",
       "  <thead>\n",
       "    <tr style=\"text-align: right;\">\n",
       "      <th></th>\n",
       "      <th>ProductId</th>\n",
       "      <th>UserId</th>\n",
       "      <th>ProfileName</th>\n",
       "      <th>HelpfulnessNumerator</th>\n",
       "      <th>HelpfulnessDenominator</th>\n",
       "      <th>Score</th>\n",
       "      <th>Time</th>\n",
       "      <th>Summary</th>\n",
       "      <th>Text</th>\n",
       "      <th>Datetime</th>\n",
       "      <th>text_words</th>\n",
       "      <th>Word_Count</th>\n",
       "      <th>adjectives</th>\n",
       "      <th>Main topic</th>\n",
       "      <th>TFIDF Values</th>\n",
       "    </tr>\n",
       "    <tr>\n",
       "      <th>Id</th>\n",
       "      <th></th>\n",
       "      <th></th>\n",
       "      <th></th>\n",
       "      <th></th>\n",
       "      <th></th>\n",
       "      <th></th>\n",
       "      <th></th>\n",
       "      <th></th>\n",
       "      <th></th>\n",
       "      <th></th>\n",
       "      <th></th>\n",
       "      <th></th>\n",
       "      <th></th>\n",
       "      <th></th>\n",
       "      <th></th>\n",
       "    </tr>\n",
       "  </thead>\n",
       "  <tbody>\n",
       "    <tr>\n",
       "      <th>1</th>\n",
       "      <td>B001E4KFG0</td>\n",
       "      <td>A3SGXH7AUHU8GW</td>\n",
       "      <td>delmartian</td>\n",
       "      <td>1</td>\n",
       "      <td>1</td>\n",
       "      <td>5</td>\n",
       "      <td>1303862400</td>\n",
       "      <td>Good Quality Dog Food</td>\n",
       "      <td>I have bought several of the Vitality canned d...</td>\n",
       "      <td>2011-04-27</td>\n",
       "      <td>[bought, several, vitality, canned, dog, food,...</td>\n",
       "      <td>{'I': 1, 'have': 2, 'bought': 1, 'several': 1,...</td>\n",
       "      <td>[several, good, processed, finicky]</td>\n",
       "      <td>[vitality, labrador]</td>\n",
       "      <td>(0, 20)\\t0.1259881576697424\\n  (0, 34)\\t0.12...</td>\n",
       "    </tr>\n",
       "    <tr>\n",
       "      <th>2</th>\n",
       "      <td>B00813GRG4</td>\n",
       "      <td>A1D87F6ZCVE5NK</td>\n",
       "      <td>dll pa</td>\n",
       "      <td>0</td>\n",
       "      <td>0</td>\n",
       "      <td>1</td>\n",
       "      <td>1346976000</td>\n",
       "      <td>Not as Advertised</td>\n",
       "      <td>Product arrived labeled as Jumbo Salted Peanut...</td>\n",
       "      <td>2012-09-07</td>\n",
       "      <td>[product, arrived, labeled, jumbo, salted, pea...</td>\n",
       "      <td>{'Product': 1, 'arrived': 1, 'labeled': 1, 'as...</td>\n",
       "      <td>[small, unsalted, sure]</td>\n",
       "      <td>[product, jumbo, salted, peanuts, jumbo]</td>\n",
       "      <td>(0, 13)\\t0.14433756729740646\\n  (0, 20)\\t0.1...</td>\n",
       "    </tr>\n",
       "    <tr>\n",
       "      <th>3</th>\n",
       "      <td>B000LQOCH0</td>\n",
       "      <td>ABXLMWJIXXAIN</td>\n",
       "      <td>Natalia Corres \"Natalia Corres\"</td>\n",
       "      <td>1</td>\n",
       "      <td>1</td>\n",
       "      <td>4</td>\n",
       "      <td>1219017600</td>\n",
       "      <td>\"Delight\" says it all</td>\n",
       "      <td>This is a confection that has been around a fe...</td>\n",
       "      <td>2008-08-18</td>\n",
       "      <td>[confection, around, centuries, light, pillowy...</td>\n",
       "      <td>{'This': 1, 'is': 5, 'a': 4, 'confection': 1, ...</td>\n",
       "      <td>[few, light, pillowy, tiny, powdered, tiny, ch...</td>\n",
       "      <td>[filberts, c.s, lewis, lion, witch, wardrobe, ...</td>\n",
       "      <td>(0, 50)\\t0.07035975447302918\\n  (0, 41)\\t0.0...</td>\n",
       "    </tr>\n",
       "    <tr>\n",
       "      <th>4</th>\n",
       "      <td>B000UA0QIQ</td>\n",
       "      <td>A395BORC6FGVXV</td>\n",
       "      <td>Karl</td>\n",
       "      <td>3</td>\n",
       "      <td>3</td>\n",
       "      <td>2</td>\n",
       "      <td>1307923200</td>\n",
       "      <td>Cough Medicine</td>\n",
       "      <td>If you are looking for the secret ingredient i...</td>\n",
       "      <td>2011-06-13</td>\n",
       "      <td>[looking, secret, ingredient, robitussin, beli...</td>\n",
       "      <td>{'If': 1, 'you': 1, 'are': 1, 'looking': 1, 'f...</td>\n",
       "      <td>[secret, good, cherry, medicinal]</td>\n",
       "      <td>[robitussin, root, beer, extract]</td>\n",
       "      <td>(0, 20)\\t0.14907119849998599\\n  (0, 30)\\t0.1...</td>\n",
       "    </tr>\n",
       "    <tr>\n",
       "      <th>5</th>\n",
       "      <td>B006K2ZZ7K</td>\n",
       "      <td>A1UQRSCLF8GW1T</td>\n",
       "      <td>Michael D. Bigham \"M. Wassir\"</td>\n",
       "      <td>0</td>\n",
       "      <td>0</td>\n",
       "      <td>5</td>\n",
       "      <td>1350777600</td>\n",
       "      <td>Great taffy</td>\n",
       "      <td>Great taffy at a great price.  There was a wid...</td>\n",
       "      <td>2012-10-21</td>\n",
       "      <td>[great, taffy, great, price, wide, assortment,...</td>\n",
       "      <td>{'Great': 1, 'taffy': 2, 'at': 1, 'a': 4, 'gre...</td>\n",
       "      <td>[great, wide, quick]</td>\n",
       "      <td>[great]</td>\n",
       "      <td>(0, 2)\\t0.17407765595569785\\n  (0, 6)\\t0.174...</td>\n",
       "    </tr>\n",
       "    <tr>\n",
       "      <th>...</th>\n",
       "      <td>...</td>\n",
       "      <td>...</td>\n",
       "      <td>...</td>\n",
       "      <td>...</td>\n",
       "      <td>...</td>\n",
       "      <td>...</td>\n",
       "      <td>...</td>\n",
       "      <td>...</td>\n",
       "      <td>...</td>\n",
       "      <td>...</td>\n",
       "      <td>...</td>\n",
       "      <td>...</td>\n",
       "      <td>...</td>\n",
       "      <td>...</td>\n",
       "      <td>...</td>\n",
       "    </tr>\n",
       "    <tr>\n",
       "      <th>996</th>\n",
       "      <td>B006F2NYI2</td>\n",
       "      <td>A1D3F6UI1RTXO0</td>\n",
       "      <td>Swopes</td>\n",
       "      <td>1</td>\n",
       "      <td>1</td>\n",
       "      <td>5</td>\n",
       "      <td>1331856000</td>\n",
       "      <td>Hot &amp; Flavorful</td>\n",
       "      <td>BLACK MARKET HOT SAUCE IS WONDERFUL.... My hus...</td>\n",
       "      <td>2012-03-16</td>\n",
       "      <td>[black, market, hot, sauce, wonderful, husband...</td>\n",
       "      <td>{'BLACK': 1, 'MARKET': 1, 'HOT': 1, 'SAUCE': 1...</td>\n",
       "      <td>[flavorful, nice, yummy, meal., many, differen...</td>\n",
       "      <td>[black, market, hot, sauce, is, wonderful, ......</td>\n",
       "      <td>(0, 49)\\t0.07761505257063328\\n  (0, 24)\\t0.0...</td>\n",
       "    </tr>\n",
       "    <tr>\n",
       "      <th>997</th>\n",
       "      <td>B006F2NYI2</td>\n",
       "      <td>AF50D40Y85TV3</td>\n",
       "      <td>Mike A.</td>\n",
       "      <td>1</td>\n",
       "      <td>1</td>\n",
       "      <td>5</td>\n",
       "      <td>1328140800</td>\n",
       "      <td>Great Hot Sauce and people who run it!</td>\n",
       "      <td>Man what can i say, this salsa is the bomb!! i...</td>\n",
       "      <td>2012-02-02</td>\n",
       "      <td>[man, say, salsa, bomb, different, kinds, almo...</td>\n",
       "      <td>{'Man': 1, 'what': 1, 'can': 1, 'i': 5, 'say,'...</td>\n",
       "      <td>[different, cool, free, i, first, dont, hot]</td>\n",
       "      <td>[]</td>\n",
       "      <td>(0, 38)\\t0.11704114719613057\\n  (0, 22)\\t0.1...</td>\n",
       "    </tr>\n",
       "    <tr>\n",
       "      <th>998</th>\n",
       "      <td>B006F2NYI2</td>\n",
       "      <td>A3G313KLWDG3PW</td>\n",
       "      <td>kefka82</td>\n",
       "      <td>1</td>\n",
       "      <td>1</td>\n",
       "      <td>5</td>\n",
       "      <td>1324252800</td>\n",
       "      <td>this sauce is the shiznit</td>\n",
       "      <td>this sauce is so good with just about anything...</td>\n",
       "      <td>2011-12-19</td>\n",
       "      <td>[sauce, good, anything, like, adding, asian, f...</td>\n",
       "      <td>{'this': 1, 'sauce': 1, 'is': 1, 'so': 1, 'goo...</td>\n",
       "      <td>[good, asian, good, strong, other, pineapple]</td>\n",
       "      <td>[]</td>\n",
       "      <td>(0, 26)\\t0.11180339887498948\\n  (0, 37)\\t0.1...</td>\n",
       "    </tr>\n",
       "    <tr>\n",
       "      <th>999</th>\n",
       "      <td>B006F2NYI2</td>\n",
       "      <td>A3NIDDT7E7JIFW</td>\n",
       "      <td>V. B. Brookshaw</td>\n",
       "      <td>1</td>\n",
       "      <td>2</td>\n",
       "      <td>1</td>\n",
       "      <td>1336089600</td>\n",
       "      <td>Not Hot</td>\n",
       "      <td>Not hot at all. Like the other low star review...</td>\n",
       "      <td>2012-05-04</td>\n",
       "      <td>[hot, like, low, star, reviewer, got, suckered...</td>\n",
       "      <td>{'Not': 1, 'hot': 2, 'at': 1, 'all.': 1, 'Like...</td>\n",
       "      <td>[hot, other, low, oz, fish, hot]</td>\n",
       "      <td>['habenero]</td>\n",
       "      <td>(0, 2)\\t0.10206207261596577\\n  (0, 40)\\t0.10...</td>\n",
       "    </tr>\n",
       "    <tr>\n",
       "      <th>1000</th>\n",
       "      <td>B006F2NYI2</td>\n",
       "      <td>A132DJVI37RB4X</td>\n",
       "      <td>Scottdrum</td>\n",
       "      <td>2</td>\n",
       "      <td>5</td>\n",
       "      <td>2</td>\n",
       "      <td>1332374400</td>\n",
       "      <td>Not hot, not habanero</td>\n",
       "      <td>I have to admit, I was a sucker for the large ...</td>\n",
       "      <td>2012-03-22</td>\n",
       "      <td>[admit, sucker, large, quantity, oz, shopping,...</td>\n",
       "      <td>{'I': 4, 'have': 3, 'to': 1, 'admit,': 1, 'was...</td>\n",
       "      <td>[large, hot, wing-sauce, convenient, overall, ...</td>\n",
       "      <td>[plastic, /, &gt;, jalapenos, &lt;, /, &gt;, water, &lt;, ...</td>\n",
       "      <td>(0, 16)\\t0.05832118435198043\\n  (0, 68)\\t0.0...</td>\n",
       "    </tr>\n",
       "  </tbody>\n",
       "</table>\n",
       "<p>1000 rows × 15 columns</p>\n",
       "</div>"
      ],
      "text/plain": [
       "       ProductId          UserId                      ProfileName  \\\n",
       "Id                                                                  \n",
       "1     B001E4KFG0  A3SGXH7AUHU8GW                       delmartian   \n",
       "2     B00813GRG4  A1D87F6ZCVE5NK                           dll pa   \n",
       "3     B000LQOCH0   ABXLMWJIXXAIN  Natalia Corres \"Natalia Corres\"   \n",
       "4     B000UA0QIQ  A395BORC6FGVXV                             Karl   \n",
       "5     B006K2ZZ7K  A1UQRSCLF8GW1T    Michael D. Bigham \"M. Wassir\"   \n",
       "...          ...             ...                              ...   \n",
       "996   B006F2NYI2  A1D3F6UI1RTXO0                           Swopes   \n",
       "997   B006F2NYI2   AF50D40Y85TV3                          Mike A.   \n",
       "998   B006F2NYI2  A3G313KLWDG3PW                          kefka82   \n",
       "999   B006F2NYI2  A3NIDDT7E7JIFW                  V. B. Brookshaw   \n",
       "1000  B006F2NYI2  A132DJVI37RB4X                        Scottdrum   \n",
       "\n",
       "      HelpfulnessNumerator  HelpfulnessDenominator  Score        Time  \\\n",
       "Id                                                                      \n",
       "1                        1                       1      5  1303862400   \n",
       "2                        0                       0      1  1346976000   \n",
       "3                        1                       1      4  1219017600   \n",
       "4                        3                       3      2  1307923200   \n",
       "5                        0                       0      5  1350777600   \n",
       "...                    ...                     ...    ...         ...   \n",
       "996                      1                       1      5  1331856000   \n",
       "997                      1                       1      5  1328140800   \n",
       "998                      1                       1      5  1324252800   \n",
       "999                      1                       2      1  1336089600   \n",
       "1000                     2                       5      2  1332374400   \n",
       "\n",
       "                                     Summary  \\\n",
       "Id                                             \n",
       "1                      Good Quality Dog Food   \n",
       "2                          Not as Advertised   \n",
       "3                      \"Delight\" says it all   \n",
       "4                             Cough Medicine   \n",
       "5                                Great taffy   \n",
       "...                                      ...   \n",
       "996                          Hot & Flavorful   \n",
       "997   Great Hot Sauce and people who run it!   \n",
       "998                this sauce is the shiznit   \n",
       "999                                  Not Hot   \n",
       "1000                   Not hot, not habanero   \n",
       "\n",
       "                                                   Text   Datetime  \\\n",
       "Id                                                                   \n",
       "1     I have bought several of the Vitality canned d... 2011-04-27   \n",
       "2     Product arrived labeled as Jumbo Salted Peanut... 2012-09-07   \n",
       "3     This is a confection that has been around a fe... 2008-08-18   \n",
       "4     If you are looking for the secret ingredient i... 2011-06-13   \n",
       "5     Great taffy at a great price.  There was a wid... 2012-10-21   \n",
       "...                                                 ...        ...   \n",
       "996   BLACK MARKET HOT SAUCE IS WONDERFUL.... My hus... 2012-03-16   \n",
       "997   Man what can i say, this salsa is the bomb!! i... 2012-02-02   \n",
       "998   this sauce is so good with just about anything... 2011-12-19   \n",
       "999   Not hot at all. Like the other low star review... 2012-05-04   \n",
       "1000  I have to admit, I was a sucker for the large ... 2012-03-22   \n",
       "\n",
       "                                             text_words  \\\n",
       "Id                                                        \n",
       "1     [bought, several, vitality, canned, dog, food,...   \n",
       "2     [product, arrived, labeled, jumbo, salted, pea...   \n",
       "3     [confection, around, centuries, light, pillowy...   \n",
       "4     [looking, secret, ingredient, robitussin, beli...   \n",
       "5     [great, taffy, great, price, wide, assortment,...   \n",
       "...                                                 ...   \n",
       "996   [black, market, hot, sauce, wonderful, husband...   \n",
       "997   [man, say, salsa, bomb, different, kinds, almo...   \n",
       "998   [sauce, good, anything, like, adding, asian, f...   \n",
       "999   [hot, like, low, star, reviewer, got, suckered...   \n",
       "1000  [admit, sucker, large, quantity, oz, shopping,...   \n",
       "\n",
       "                                             Word_Count  \\\n",
       "Id                                                        \n",
       "1     {'I': 1, 'have': 2, 'bought': 1, 'several': 1,...   \n",
       "2     {'Product': 1, 'arrived': 1, 'labeled': 1, 'as...   \n",
       "3     {'This': 1, 'is': 5, 'a': 4, 'confection': 1, ...   \n",
       "4     {'If': 1, 'you': 1, 'are': 1, 'looking': 1, 'f...   \n",
       "5     {'Great': 1, 'taffy': 2, 'at': 1, 'a': 4, 'gre...   \n",
       "...                                                 ...   \n",
       "996   {'BLACK': 1, 'MARKET': 1, 'HOT': 1, 'SAUCE': 1...   \n",
       "997   {'Man': 1, 'what': 1, 'can': 1, 'i': 5, 'say,'...   \n",
       "998   {'this': 1, 'sauce': 1, 'is': 1, 'so': 1, 'goo...   \n",
       "999   {'Not': 1, 'hot': 2, 'at': 1, 'all.': 1, 'Like...   \n",
       "1000  {'I': 4, 'have': 3, 'to': 1, 'admit,': 1, 'was...   \n",
       "\n",
       "                                             adjectives  \\\n",
       "Id                                                        \n",
       "1                   [several, good, processed, finicky]   \n",
       "2                               [small, unsalted, sure]   \n",
       "3     [few, light, pillowy, tiny, powdered, tiny, ch...   \n",
       "4                     [secret, good, cherry, medicinal]   \n",
       "5                                  [great, wide, quick]   \n",
       "...                                                 ...   \n",
       "996   [flavorful, nice, yummy, meal., many, differen...   \n",
       "997        [different, cool, free, i, first, dont, hot]   \n",
       "998       [good, asian, good, strong, other, pineapple]   \n",
       "999                    [hot, other, low, oz, fish, hot]   \n",
       "1000  [large, hot, wing-sauce, convenient, overall, ...   \n",
       "\n",
       "                                             Main topic  \\\n",
       "Id                                                        \n",
       "1                                  [vitality, labrador]   \n",
       "2              [product, jumbo, salted, peanuts, jumbo]   \n",
       "3     [filberts, c.s, lewis, lion, witch, wardrobe, ...   \n",
       "4                     [robitussin, root, beer, extract]   \n",
       "5                                               [great]   \n",
       "...                                                 ...   \n",
       "996   [black, market, hot, sauce, is, wonderful, ......   \n",
       "997                                                  []   \n",
       "998                                                  []   \n",
       "999                                         ['habenero]   \n",
       "1000  [plastic, /, >, jalapenos, <, /, >, water, <, ...   \n",
       "\n",
       "                                           TFIDF Values  \n",
       "Id                                                       \n",
       "1       (0, 20)\\t0.1259881576697424\\n  (0, 34)\\t0.12...  \n",
       "2       (0, 13)\\t0.14433756729740646\\n  (0, 20)\\t0.1...  \n",
       "3       (0, 50)\\t0.07035975447302918\\n  (0, 41)\\t0.0...  \n",
       "4       (0, 20)\\t0.14907119849998599\\n  (0, 30)\\t0.1...  \n",
       "5       (0, 2)\\t0.17407765595569785\\n  (0, 6)\\t0.174...  \n",
       "...                                                 ...  \n",
       "996     (0, 49)\\t0.07761505257063328\\n  (0, 24)\\t0.0...  \n",
       "997     (0, 38)\\t0.11704114719613057\\n  (0, 22)\\t0.1...  \n",
       "998     (0, 26)\\t0.11180339887498948\\n  (0, 37)\\t0.1...  \n",
       "999     (0, 2)\\t0.10206207261596577\\n  (0, 40)\\t0.10...  \n",
       "1000    (0, 16)\\t0.05832118435198043\\n  (0, 68)\\t0.0...  \n",
       "\n",
       "[1000 rows x 15 columns]"
      ]
     },
     "execution_count": 104,
     "metadata": {},
     "output_type": "execute_result"
    }
   ],
   "source": [
    "data['TFIDF Values'] = tfidf\n",
    "data"
   ]
  },
  {
   "cell_type": "code",
   "execution_count": null,
   "metadata": {},
   "outputs": [],
   "source": [
    "slice = data['text_words'].apply(lambda text:cv.transform(text))"
   ]
  },
  {
   "cell_type": "code",
   "execution_count": 46,
   "metadata": {},
   "outputs": [
    {
     "ename": "ValueError",
     "evalue": "empty vocabulary; perhaps the documents only contain stop words",
     "output_type": "error",
     "traceback": [
      "\u001b[0;31m---------------------------------------------------------------------------\u001b[0m",
      "\u001b[0;31mValueError\u001b[0m                                Traceback (most recent call last)",
      "\u001b[0;32m<ipython-input-46-8c8b219bef36>\u001b[0m in \u001b[0;36m<module>\u001b[0;34m\u001b[0m\n\u001b[0;32m----> 1\u001b[0;31m \u001b[0mdata\u001b[0m\u001b[0;34m[\u001b[0m\u001b[0;34m'text_words'\u001b[0m\u001b[0;34m]\u001b[0m\u001b[0;34m.\u001b[0m\u001b[0mapply\u001b[0m\u001b[0;34m(\u001b[0m\u001b[0;32mlambda\u001b[0m \u001b[0mtext\u001b[0m\u001b[0;34m:\u001b[0m\u001b[0mcv\u001b[0m\u001b[0;34m.\u001b[0m\u001b[0mfit\u001b[0m\u001b[0;34m(\u001b[0m\u001b[0mtext\u001b[0m\u001b[0;34m)\u001b[0m\u001b[0;34m)\u001b[0m\u001b[0;34m\u001b[0m\u001b[0;34m\u001b[0m\u001b[0m\n\u001b[0m",
      "\u001b[0;32m~/anaconda3/lib/python3.8/site-packages/pandas/core/series.py\u001b[0m in \u001b[0;36mapply\u001b[0;34m(self, func, convert_dtype, args, **kwds)\u001b[0m\n\u001b[1;32m   3846\u001b[0m             \u001b[0;32melse\u001b[0m\u001b[0;34m:\u001b[0m\u001b[0;34m\u001b[0m\u001b[0;34m\u001b[0m\u001b[0m\n\u001b[1;32m   3847\u001b[0m                 \u001b[0mvalues\u001b[0m \u001b[0;34m=\u001b[0m \u001b[0mself\u001b[0m\u001b[0;34m.\u001b[0m\u001b[0mastype\u001b[0m\u001b[0;34m(\u001b[0m\u001b[0mobject\u001b[0m\u001b[0;34m)\u001b[0m\u001b[0;34m.\u001b[0m\u001b[0mvalues\u001b[0m\u001b[0;34m\u001b[0m\u001b[0;34m\u001b[0m\u001b[0m\n\u001b[0;32m-> 3848\u001b[0;31m                 \u001b[0mmapped\u001b[0m \u001b[0;34m=\u001b[0m \u001b[0mlib\u001b[0m\u001b[0;34m.\u001b[0m\u001b[0mmap_infer\u001b[0m\u001b[0;34m(\u001b[0m\u001b[0mvalues\u001b[0m\u001b[0;34m,\u001b[0m \u001b[0mf\u001b[0m\u001b[0;34m,\u001b[0m \u001b[0mconvert\u001b[0m\u001b[0;34m=\u001b[0m\u001b[0mconvert_dtype\u001b[0m\u001b[0;34m)\u001b[0m\u001b[0;34m\u001b[0m\u001b[0;34m\u001b[0m\u001b[0m\n\u001b[0m\u001b[1;32m   3849\u001b[0m \u001b[0;34m\u001b[0m\u001b[0m\n\u001b[1;32m   3850\u001b[0m         \u001b[0;32mif\u001b[0m \u001b[0mlen\u001b[0m\u001b[0;34m(\u001b[0m\u001b[0mmapped\u001b[0m\u001b[0;34m)\u001b[0m \u001b[0;32mand\u001b[0m \u001b[0misinstance\u001b[0m\u001b[0;34m(\u001b[0m\u001b[0mmapped\u001b[0m\u001b[0;34m[\u001b[0m\u001b[0;36m0\u001b[0m\u001b[0;34m]\u001b[0m\u001b[0;34m,\u001b[0m \u001b[0mSeries\u001b[0m\u001b[0;34m)\u001b[0m\u001b[0;34m:\u001b[0m\u001b[0;34m\u001b[0m\u001b[0;34m\u001b[0m\u001b[0m\n",
      "\u001b[0;32mpandas/_libs/lib.pyx\u001b[0m in \u001b[0;36mpandas._libs.lib.map_infer\u001b[0;34m()\u001b[0m\n",
      "\u001b[0;32m<ipython-input-46-8c8b219bef36>\u001b[0m in \u001b[0;36m<lambda>\u001b[0;34m(text)\u001b[0m\n\u001b[0;32m----> 1\u001b[0;31m \u001b[0mdata\u001b[0m\u001b[0;34m[\u001b[0m\u001b[0;34m'text_words'\u001b[0m\u001b[0;34m]\u001b[0m\u001b[0;34m.\u001b[0m\u001b[0mapply\u001b[0m\u001b[0;34m(\u001b[0m\u001b[0;32mlambda\u001b[0m \u001b[0mtext\u001b[0m\u001b[0;34m:\u001b[0m\u001b[0mcv\u001b[0m\u001b[0;34m.\u001b[0m\u001b[0mfit\u001b[0m\u001b[0;34m(\u001b[0m\u001b[0mtext\u001b[0m\u001b[0;34m)\u001b[0m\u001b[0;34m)\u001b[0m\u001b[0;34m\u001b[0m\u001b[0;34m\u001b[0m\u001b[0m\n\u001b[0m",
      "\u001b[0;32m~/anaconda3/lib/python3.8/site-packages/sklearn/feature_extraction/text.py\u001b[0m in \u001b[0;36mfit\u001b[0;34m(self, raw_documents, y)\u001b[0m\n\u001b[1;32m   1163\u001b[0m         \"\"\"\n\u001b[1;32m   1164\u001b[0m         \u001b[0mself\u001b[0m\u001b[0;34m.\u001b[0m\u001b[0m_warn_for_unused_params\u001b[0m\u001b[0;34m(\u001b[0m\u001b[0;34m)\u001b[0m\u001b[0;34m\u001b[0m\u001b[0;34m\u001b[0m\u001b[0m\n\u001b[0;32m-> 1165\u001b[0;31m         \u001b[0mself\u001b[0m\u001b[0;34m.\u001b[0m\u001b[0mfit_transform\u001b[0m\u001b[0;34m(\u001b[0m\u001b[0mraw_documents\u001b[0m\u001b[0;34m)\u001b[0m\u001b[0;34m\u001b[0m\u001b[0;34m\u001b[0m\u001b[0m\n\u001b[0m\u001b[1;32m   1166\u001b[0m         \u001b[0;32mreturn\u001b[0m \u001b[0mself\u001b[0m\u001b[0;34m\u001b[0m\u001b[0;34m\u001b[0m\u001b[0m\n\u001b[1;32m   1167\u001b[0m \u001b[0;34m\u001b[0m\u001b[0m\n",
      "\u001b[0;32m~/anaconda3/lib/python3.8/site-packages/sklearn/feature_extraction/text.py\u001b[0m in \u001b[0;36mfit_transform\u001b[0;34m(self, raw_documents, y)\u001b[0m\n\u001b[1;32m   1196\u001b[0m         \u001b[0mmax_features\u001b[0m \u001b[0;34m=\u001b[0m \u001b[0mself\u001b[0m\u001b[0;34m.\u001b[0m\u001b[0mmax_features\u001b[0m\u001b[0;34m\u001b[0m\u001b[0;34m\u001b[0m\u001b[0m\n\u001b[1;32m   1197\u001b[0m \u001b[0;34m\u001b[0m\u001b[0m\n\u001b[0;32m-> 1198\u001b[0;31m         vocabulary, X = self._count_vocab(raw_documents,\n\u001b[0m\u001b[1;32m   1199\u001b[0m                                           self.fixed_vocabulary_)\n\u001b[1;32m   1200\u001b[0m \u001b[0;34m\u001b[0m\u001b[0m\n",
      "\u001b[0;32m~/anaconda3/lib/python3.8/site-packages/sklearn/feature_extraction/text.py\u001b[0m in \u001b[0;36m_count_vocab\u001b[0;34m(self, raw_documents, fixed_vocab)\u001b[0m\n\u001b[1;32m   1127\u001b[0m             \u001b[0mvocabulary\u001b[0m \u001b[0;34m=\u001b[0m \u001b[0mdict\u001b[0m\u001b[0;34m(\u001b[0m\u001b[0mvocabulary\u001b[0m\u001b[0;34m)\u001b[0m\u001b[0;34m\u001b[0m\u001b[0;34m\u001b[0m\u001b[0m\n\u001b[1;32m   1128\u001b[0m             \u001b[0;32mif\u001b[0m \u001b[0;32mnot\u001b[0m \u001b[0mvocabulary\u001b[0m\u001b[0;34m:\u001b[0m\u001b[0;34m\u001b[0m\u001b[0;34m\u001b[0m\u001b[0m\n\u001b[0;32m-> 1129\u001b[0;31m                 raise ValueError(\"empty vocabulary; perhaps the documents only\"\n\u001b[0m\u001b[1;32m   1130\u001b[0m                                  \" contain stop words\")\n\u001b[1;32m   1131\u001b[0m \u001b[0;34m\u001b[0m\u001b[0m\n",
      "\u001b[0;31mValueError\u001b[0m: empty vocabulary; perhaps the documents only contain stop words"
     ]
    }
   ],
   "source": [
    "data['text_words'].apply(lambda text:cv.fit(text))"
   ]
  },
  {
   "cell_type": "code",
   "execution_count": null,
   "metadata": {},
   "outputs": [],
   "source": []
  },
  {
   "cell_type": "markdown",
   "metadata": {},
   "source": [
    "## Clustering"
   ]
  },
  {
   "cell_type": "code",
   "execution_count": 26,
   "metadata": {},
   "outputs": [],
   "source": [
    "from sklearn.cluster import KMeans"
   ]
  },
  {
   "cell_type": "code",
   "execution_count": 27,
   "metadata": {},
   "outputs": [],
   "source": [
    "#create our model\n",
    "model = KMeans(verbose=True)"
   ]
  },
  {
   "cell_type": "code",
   "execution_count": 40,
   "metadata": {},
   "outputs": [],
   "source": [
    "slice = data.iloc[:,3:7] #all rows, 3 to 6 columns"
   ]
  },
  {
   "cell_type": "code",
   "execution_count": 41,
   "metadata": {},
   "outputs": [
    {
     "name": "stdout",
     "output_type": "stream",
     "text": [
      "Initialization complete\n",
      "Iteration 0, inertia 4.14844481601016e+19\n",
      "Iteration 1, inertia 3.9213100341709185e+19\n",
      "Iteration 2, inertia 3.8672337626912465e+19\n",
      "Iteration 3, inertia 3.815888282722454e+19\n",
      "Iteration 4, inertia 3.767984739775985e+19\n",
      "Iteration 5, inertia 3.7171065547840995e+19\n",
      "Iteration 6, inertia 3.66446229647327e+19\n",
      "Iteration 7, inertia 3.611052542533572e+19\n",
      "Iteration 8, inertia 3.5697749226508677e+19\n",
      "Iteration 9, inertia 3.532139502660647e+19\n",
      "Iteration 10, inertia 3.4977505164414177e+19\n",
      "Iteration 11, inertia 3.466877237383342e+19\n",
      "Iteration 12, inertia 3.441231356825682e+19\n",
      "Iteration 13, inertia 3.4212831164480045e+19\n",
      "Iteration 14, inertia 3.404583017338724e+19\n",
      "Iteration 15, inertia 3.3922356095719465e+19\n",
      "Iteration 16, inertia 3.381452861542864e+19\n",
      "Iteration 17, inertia 3.3713610219752915e+19\n",
      "Iteration 18, inertia 3.3635661150989275e+19\n",
      "Iteration 19, inertia 3.357719422670525e+19\n",
      "Iteration 20, inertia 3.3532308572637643e+19\n",
      "Iteration 21, inertia 3.3500359144787214e+19\n",
      "Iteration 22, inertia 3.348131182480973e+19\n",
      "Iteration 23, inertia 3.3466361432933503e+19\n",
      "Iteration 24, inertia 3.3449976644890857e+19\n",
      "Iteration 25, inertia 3.3425177527774933e+19\n",
      "Iteration 26, inertia 3.340331839068689e+19\n",
      "Iteration 27, inertia 3.338838264649058e+19\n",
      "Iteration 28, inertia 3.337412078002859e+19\n",
      "Iteration 29, inertia 3.3365677777579565e+19\n",
      "Converged at iteration 29: center shift 51069577276.27683 within tolerance 57703894986.34753\n",
      "Initialization complete\n",
      "Iteration 0, inertia 4.684539749397784e+19\n",
      "Iteration 1, inertia 3.5857784107046707e+19\n",
      "Iteration 2, inertia 3.455999419647819e+19\n",
      "Iteration 3, inertia 3.390734333905273e+19\n",
      "Iteration 4, inertia 3.3386349416065323e+19\n",
      "Iteration 5, inertia 3.31206349561894e+19\n",
      "Iteration 6, inertia 3.300668035215537e+19\n",
      "Iteration 7, inertia 3.29444109818371e+19\n",
      "Iteration 8, inertia 3.29034738565325e+19\n",
      "Iteration 9, inertia 3.2864350786223202e+19\n",
      "Iteration 10, inertia 3.2837366628578157e+19\n",
      "Iteration 11, inertia 3.2811651959522767e+19\n",
      "Iteration 12, inertia 3.27861835298312e+19\n",
      "Iteration 13, inertia 3.27609771336231e+19\n",
      "Iteration 14, inertia 3.2739432930524443e+19\n",
      "Iteration 15, inertia 3.272185357530207e+19\n",
      "Iteration 16, inertia 3.27066685974696e+19\n",
      "Iteration 17, inertia 3.2692290764297822e+19\n",
      "Iteration 18, inertia 3.2680918084712784e+19\n",
      "Iteration 19, inertia 3.267041599020428e+19\n",
      "Iteration 20, inertia 3.2659569663212958e+19\n",
      "Iteration 21, inertia 3.2648617219376964e+19\n",
      "Iteration 22, inertia 3.2640446090977948e+19\n",
      "Iteration 23, inertia 3.26334384140644e+19\n",
      "Iteration 24, inertia 3.2626616547012764e+19\n",
      "Converged at iteration 24: center shift 48202405503.32078 within tolerance 57703894986.34753\n",
      "Initialization complete\n",
      "Iteration 0, inertia 4.217584092337314e+19\n",
      "Iteration 1, inertia 3.307432882937335e+19\n",
      "Iteration 2, inertia 3.2716286332782817e+19\n",
      "Iteration 3, inertia 3.2642186391434445e+19\n",
      "Iteration 4, inertia 3.2617787917699805e+19\n",
      "Iteration 5, inertia 3.260576415889701e+19\n",
      "Iteration 6, inertia 3.2599610177657827e+19\n",
      "Converged at iteration 6: center shift 31220192054.188354 within tolerance 57703894986.34753\n",
      "Initialization complete\n",
      "Iteration 0, inertia 3.76828873232211e+19\n",
      "Iteration 1, inertia 3.3412131299582083e+19\n",
      "Iteration 2, inertia 3.286401237215535e+19\n",
      "Iteration 3, inertia 3.271747295178954e+19\n",
      "Iteration 4, inertia 3.266025056543842e+19\n",
      "Iteration 5, inertia 3.2637065262182654e+19\n",
      "Iteration 6, inertia 3.2625887074508685e+19\n",
      "Iteration 7, inertia 3.26137067022329e+19\n",
      "Iteration 8, inertia 3.2606765145731625e+19\n",
      "Iteration 9, inertia 3.2603055393642373e+19\n",
      "Iteration 10, inertia 3.2599585226919887e+19\n",
      "Iteration 11, inertia 3.2596957233717453e+19\n",
      "Iteration 12, inertia 3.259533408131681e+19\n",
      "Iteration 13, inertia 3.2594491138853736e+19\n",
      "Converged at iteration 13: center shift 20528491809.264156 within tolerance 57703894986.34753\n",
      "Initialization complete\n",
      "Iteration 0, inertia 4.169163955071113e+19\n",
      "Iteration 1, inertia 3.5682832839578845e+19\n",
      "Iteration 2, inertia 3.488495291870864e+19\n",
      "Iteration 3, inertia 3.4434013935453467e+19\n",
      "Iteration 4, inertia 3.417289388457902e+19\n",
      "Iteration 5, inertia 3.4008029762199073e+19\n",
      "Iteration 6, inertia 3.3894380285031326e+19\n",
      "Iteration 7, inertia 3.3798824344315834e+19\n",
      "Iteration 8, inertia 3.3708656188109324e+19\n",
      "Iteration 9, inertia 3.3617819582053855e+19\n",
      "Iteration 10, inertia 3.355565950201781e+19\n",
      "Iteration 11, inertia 3.3499572770515063e+19\n",
      "Iteration 12, inertia 3.3451678660804297e+19\n",
      "Iteration 13, inertia 3.3416037598686e+19\n",
      "Iteration 14, inertia 3.3391328454198415e+19\n",
      "Iteration 15, inertia 3.3369234055204688e+19\n",
      "Iteration 16, inertia 3.335128104613266e+19\n",
      "Iteration 17, inertia 3.333766444049958e+19\n",
      "Iteration 18, inertia 3.332990088027754e+19\n",
      "Iteration 19, inertia 3.3321764291295003e+19\n",
      "Converged at iteration 19: center shift 33191006566.263607 within tolerance 57703894986.34753\n",
      "Initialization complete\n",
      "Iteration 0, inertia 3.4830146864856568e+19\n",
      "Iteration 1, inertia 3.2925578234290024e+19\n",
      "Iteration 2, inertia 3.2789246573936173e+19\n",
      "Iteration 3, inertia 3.2739722406726115e+19\n",
      "Iteration 4, inertia 3.271391308333882e+19\n",
      "Iteration 5, inertia 3.2699325773889094e+19\n",
      "Iteration 6, inertia 3.268949489363068e+19\n",
      "Iteration 7, inertia 3.2677711667912716e+19\n",
      "Iteration 8, inertia 3.266758605920267e+19\n",
      "Iteration 9, inertia 3.265739844992585e+19\n",
      "Iteration 10, inertia 3.264860289154266e+19\n",
      "Iteration 11, inertia 3.2638076975822287e+19\n",
      "Iteration 12, inertia 3.262954159545045e+19\n",
      "Iteration 13, inertia 3.2624248921346994e+19\n",
      "Converged at iteration 13: center shift 36546805178.25968 within tolerance 57703894986.34753\n",
      "Initialization complete\n",
      "Iteration 0, inertia 4.78197275667758e+19\n",
      "Iteration 1, inertia 4.1440753262306075e+19\n",
      "Iteration 2, inertia 3.933183229735999e+19\n",
      "Iteration 3, inertia 3.78246347817545e+19\n",
      "Iteration 4, inertia 3.667389011784807e+19\n",
      "Iteration 5, inertia 3.583241584931142e+19\n",
      "Iteration 6, inertia 3.5167070265512743e+19\n",
      "Iteration 7, inertia 3.4711087278104527e+19\n",
      "Iteration 8, inertia 3.4310797841615167e+19\n",
      "Iteration 9, inertia 3.402246408524238e+19\n",
      "Iteration 10, inertia 3.383727592213081e+19\n",
      "Iteration 11, inertia 3.3706503005282275e+19\n",
      "Iteration 12, inertia 3.361932677678214e+19\n",
      "Iteration 13, inertia 3.355970710867609e+19\n",
      "Iteration 14, inertia 3.3515698733694173e+19\n",
      "Iteration 15, inertia 3.34831859853298e+19\n",
      "Iteration 16, inertia 3.3460781385082348e+19\n",
      "Iteration 17, inertia 3.3446873242717794e+19\n",
      "Iteration 18, inertia 3.3426263131945783e+19\n",
      "Iteration 19, inertia 3.339974953458168e+19\n",
      "Iteration 20, inertia 3.3382629797637935e+19\n",
      "Iteration 21, inertia 3.336973391995955e+19\n",
      "Iteration 22, inertia 3.3357481782568055e+19\n",
      "Iteration 23, inertia 3.3347513573095723e+19\n",
      "Iteration 24, inertia 3.3335994229931446e+19\n",
      "Iteration 25, inertia 3.3327552055443386e+19\n",
      "Converged at iteration 25: center shift 55033072724.16297 within tolerance 57703894986.34753\n",
      "Initialization complete\n",
      "Iteration 0, inertia 3.958480533811343e+19\n",
      "Iteration 1, inertia 3.462620338182023e+19\n",
      "Iteration 2, inertia 3.397524444153168e+19\n",
      "Iteration 3, inertia 3.3669212508378747e+19\n",
      "Iteration 4, inertia 3.3499129601296396e+19\n",
      "Iteration 5, inertia 3.3399980427535983e+19\n",
      "Iteration 6, inertia 3.3338886760812257e+19\n",
      "Iteration 7, inertia 3.330959914485135e+19\n",
      "Iteration 8, inertia 3.329341819766139e+19\n",
      "Iteration 9, inertia 3.3284778185884877e+19\n",
      "Converged at iteration 9: center shift 37604882922.871735 within tolerance 57703894986.34753\n",
      "Initialization complete\n",
      "Iteration 0, inertia 4.3212033179381375e+19\n",
      "Iteration 1, inertia 3.387353104880803e+19\n",
      "Iteration 2, inertia 3.3463891564448408e+19\n",
      "Iteration 3, inertia 3.3374535313158672e+19\n",
      "Iteration 4, inertia 3.3326053994566103e+19\n",
      "Iteration 5, inertia 3.3301092764583432e+19\n",
      "Iteration 6, inertia 3.329025848255122e+19\n",
      "Iteration 7, inertia 3.3283442408293724e+19\n",
      "Converged at iteration 7: center shift 34928623189.67595 within tolerance 57703894986.34753\n",
      "Initialization complete\n",
      "Iteration 0, inertia 3.942549141651637e+19\n",
      "Iteration 1, inertia 3.36422037829029e+19\n",
      "Iteration 2, inertia 3.2882344797441106e+19\n",
      "Iteration 3, inertia 3.270289505681511e+19\n",
      "Iteration 4, inertia 3.264067352346748e+19\n",
      "Iteration 5, inertia 3.26155576976792e+19\n",
      "Iteration 6, inertia 3.2606270823328174e+19\n",
      "Converged at iteration 6: center shift 33155034784.478252 within tolerance 57703894986.34753\n"
     ]
    },
    {
     "data": {
      "text/plain": [
       "KMeans(verbose=True)"
      ]
     },
     "execution_count": 41,
     "metadata": {},
     "output_type": "execute_result"
    }
   ],
   "source": [
    "model.fit(slice)"
   ]
  },
  {
   "cell_type": "code",
   "execution_count": 43,
   "metadata": {},
   "outputs": [
    {
     "data": {
      "text/plain": [
       "array([0, 2, 1, ..., 4, 4, 2], dtype=int32)"
      ]
     },
     "execution_count": 43,
     "metadata": {},
     "output_type": "execute_result"
    }
   ],
   "source": [
    "cluster_vals = model.predict(slice)\n",
    "cluster_vals"
   ]
  },
  {
   "cell_type": "code",
   "execution_count": 45,
   "metadata": {},
   "outputs": [
    {
     "data": {
      "text/html": [
       "<div>\n",
       "<style scoped>\n",
       "    .dataframe tbody tr th:only-of-type {\n",
       "        vertical-align: middle;\n",
       "    }\n",
       "\n",
       "    .dataframe tbody tr th {\n",
       "        vertical-align: top;\n",
       "    }\n",
       "\n",
       "    .dataframe thead th {\n",
       "        text-align: right;\n",
       "    }\n",
       "</style>\n",
       "<table border=\"1\" class=\"dataframe\">\n",
       "  <thead>\n",
       "    <tr style=\"text-align: right;\">\n",
       "      <th></th>\n",
       "      <th>HelpfulnessNumerator</th>\n",
       "      <th>HelpfulnessDenominator</th>\n",
       "      <th>Score</th>\n",
       "      <th>Time</th>\n",
       "      <th>cluster</th>\n",
       "    </tr>\n",
       "    <tr>\n",
       "      <th>Id</th>\n",
       "      <th></th>\n",
       "      <th></th>\n",
       "      <th></th>\n",
       "      <th></th>\n",
       "      <th></th>\n",
       "    </tr>\n",
       "  </thead>\n",
       "  <tbody>\n",
       "    <tr>\n",
       "      <th>1</th>\n",
       "      <td>1</td>\n",
       "      <td>1</td>\n",
       "      <td>5</td>\n",
       "      <td>1303862400</td>\n",
       "      <td>0</td>\n",
       "    </tr>\n",
       "    <tr>\n",
       "      <th>2</th>\n",
       "      <td>0</td>\n",
       "      <td>0</td>\n",
       "      <td>1</td>\n",
       "      <td>1346976000</td>\n",
       "      <td>2</td>\n",
       "    </tr>\n",
       "    <tr>\n",
       "      <th>3</th>\n",
       "      <td>1</td>\n",
       "      <td>1</td>\n",
       "      <td>4</td>\n",
       "      <td>1219017600</td>\n",
       "      <td>1</td>\n",
       "    </tr>\n",
       "    <tr>\n",
       "      <th>4</th>\n",
       "      <td>3</td>\n",
       "      <td>3</td>\n",
       "      <td>2</td>\n",
       "      <td>1307923200</td>\n",
       "      <td>0</td>\n",
       "    </tr>\n",
       "    <tr>\n",
       "      <th>5</th>\n",
       "      <td>0</td>\n",
       "      <td>0</td>\n",
       "      <td>5</td>\n",
       "      <td>1350777600</td>\n",
       "      <td>2</td>\n",
       "    </tr>\n",
       "    <tr>\n",
       "      <th>...</th>\n",
       "      <td>...</td>\n",
       "      <td>...</td>\n",
       "      <td>...</td>\n",
       "      <td>...</td>\n",
       "      <td>...</td>\n",
       "    </tr>\n",
       "    <tr>\n",
       "      <th>568450</th>\n",
       "      <td>0</td>\n",
       "      <td>0</td>\n",
       "      <td>5</td>\n",
       "      <td>1299628800</td>\n",
       "      <td>0</td>\n",
       "    </tr>\n",
       "    <tr>\n",
       "      <th>568451</th>\n",
       "      <td>0</td>\n",
       "      <td>0</td>\n",
       "      <td>2</td>\n",
       "      <td>1331251200</td>\n",
       "      <td>4</td>\n",
       "    </tr>\n",
       "    <tr>\n",
       "      <th>568452</th>\n",
       "      <td>2</td>\n",
       "      <td>2</td>\n",
       "      <td>5</td>\n",
       "      <td>1329782400</td>\n",
       "      <td>4</td>\n",
       "    </tr>\n",
       "    <tr>\n",
       "      <th>568453</th>\n",
       "      <td>1</td>\n",
       "      <td>1</td>\n",
       "      <td>5</td>\n",
       "      <td>1331596800</td>\n",
       "      <td>4</td>\n",
       "    </tr>\n",
       "    <tr>\n",
       "      <th>568454</th>\n",
       "      <td>0</td>\n",
       "      <td>0</td>\n",
       "      <td>5</td>\n",
       "      <td>1338422400</td>\n",
       "      <td>2</td>\n",
       "    </tr>\n",
       "  </tbody>\n",
       "</table>\n",
       "<p>568454 rows × 5 columns</p>\n",
       "</div>"
      ],
      "text/plain": [
       "        HelpfulnessNumerator  HelpfulnessDenominator  Score        Time  \\\n",
       "Id                                                                        \n",
       "1                          1                       1      5  1303862400   \n",
       "2                          0                       0      1  1346976000   \n",
       "3                          1                       1      4  1219017600   \n",
       "4                          3                       3      2  1307923200   \n",
       "5                          0                       0      5  1350777600   \n",
       "...                      ...                     ...    ...         ...   \n",
       "568450                     0                       0      5  1299628800   \n",
       "568451                     0                       0      2  1331251200   \n",
       "568452                     2                       2      5  1329782400   \n",
       "568453                     1                       1      5  1331596800   \n",
       "568454                     0                       0      5  1338422400   \n",
       "\n",
       "        cluster  \n",
       "Id               \n",
       "1             0  \n",
       "2             2  \n",
       "3             1  \n",
       "4             0  \n",
       "5             2  \n",
       "...         ...  \n",
       "568450        0  \n",
       "568451        4  \n",
       "568452        4  \n",
       "568453        4  \n",
       "568454        2  \n",
       "\n",
       "[568454 rows x 5 columns]"
      ]
     },
     "execution_count": 45,
     "metadata": {},
     "output_type": "execute_result"
    }
   ],
   "source": [
    "slice['cluster'] = cluster_vals\n",
    "slice"
   ]
  },
  {
   "cell_type": "code",
   "execution_count": 46,
   "metadata": {},
   "outputs": [],
   "source": [
    "data['cluster'] = cluster_vals"
   ]
  },
  {
   "cell_type": "code",
   "execution_count": 48,
   "metadata": {},
   "outputs": [
    {
     "data": {
      "image/png": "[encoded data removed]",
      "text/plain": [
       "<Figure size 432x288 with 1 Axes>"
      ]
     },
     "metadata": {
      "needs_background": "light"
     },
     "output_type": "display_data"
    }
   ],
   "source": [
    "fig = plt.figure()\n",
    "for cluster in range(0,10):\n",
    "    plt.scatter(slice[slice.cluster == cluster].Score, slice[slice.cluster == cluster].HelpfulnessDenominator)\n",
    "plt.show()"
   ]
  },
  {
   "cell_type": "code",
   "execution_count": 49,
   "metadata": {},
   "outputs": [
    {
     "data": {
      "image/png": "[encoded data removed]",
      "text/plain": [
       "<Figure size 432x288 with 1 Axes>"
      ]
     },
     "metadata": {
      "needs_background": "light"
     },
     "output_type": "display_data"
    }
   ],
   "source": [
    "fig = plt.figure()\n",
    "for cluster in range(0,10):\n",
    "    plt.scatter(slice[slice.cluster == cluster].HelpfulnessNumerator, slice[slice.cluster == cluster].HelpfulnessDenominator)\n",
    "plt.show()"
   ]
  },
  {
   "cell_type": "code",
   "execution_count": 50,
   "metadata": {},
   "outputs": [],
   "source": [
    "# run KMeans for different sizes in order to to elbow method to find optimal num of clusters\n",
    "from tqdm import tqdm"
   ]
  },
  {
   "cell_type": "code",
   "execution_count": 51,
   "metadata": {},
   "outputs": [],
   "source": [
    "slice = data.iloc[:,3:6] #all rows, 3 to 6 columns"
   ]
  },
  {
   "cell_type": "code",
   "execution_count": 52,
   "metadata": {},
   "outputs": [
    {
     "name": "stderr",
     "output_type": "stream",
     "text": [
      "100%|██████████| 17/17 [02:38<00:00,  9.32s/it]\n"
     ]
    }
   ],
   "source": [
    "elbow = {}\n",
    "\n",
    "for k in tqdm(range(3,20)):\n",
    "    elbow_model=KMeans(n_clusters=k)\n",
    "    elbow_model.fit_predict(slice)\n",
    "    elbow[k]=elbow_model.inertia_"
   ]
  },
  {
   "cell_type": "code",
   "execution_count": 53,
   "metadata": {},
   "outputs": [
    {
     "data": {
      "text/plain": [
       "{3: 23508715.366719212,\n",
       " 4: 15195555.342984809,\n",
       " 5: 10405242.655452238,\n",
       " 6: 7995430.481773518,\n",
       " 7: 6543136.167429792,\n",
       " 8: 5505913.601689081,\n",
       " 9: 4764131.307699994,\n",
       " 10: 4156671.532183134,\n",
       " 11: 3611028.1522489507,\n",
       " 12: 3277171.069232692,\n",
       " 13: 2951366.815808028,\n",
       " 14: 2747371.94384158,\n",
       " 15: 2502913.894181376,\n",
       " 16: 2315927.663981884,\n",
       " 17: 2116434.401195977,\n",
       " 18: 1952931.0251545573,\n",
       " 19: 1788134.4777560374}"
      ]
     },
     "execution_count": 53,
     "metadata": {},
     "output_type": "execute_result"
    }
   ],
   "source": [
    "elbow"
   ]
  },
  {
   "cell_type": "code",
   "execution_count": 54,
   "metadata": {},
   "outputs": [
    {
     "data": {
      "text/plain": [
       "[<matplotlib.lines.Line2D at 0x7f8cc0be0af0>]"
      ]
     },
     "execution_count": 54,
     "metadata": {},
     "output_type": "execute_result"
    },
    {
     "data": {
      "image/png": "[encoded data removed]",
      "text/plain": [
       "<Figure size 432x288 with 1 Axes>"
      ]
     },
     "metadata": {
      "needs_background": "light"
     },
     "output_type": "display_data"
    }
   ],
   "source": [
    "plt.plot(list(elbow.keys()), list(elbow.values())) #around 6 it could be OK"
   ]
  },
  {
   "cell_type": "code",
   "execution_count": 55,
   "metadata": {},
   "outputs": [
    {
     "data": {
      "image/png": "[encoded data removed]",
      "text/plain": [
       "<Figure size 432x288 with 1 Axes>"
      ]
     },
     "metadata": {
      "needs_background": "light"
     },
     "output_type": "display_data"
    }
   ],
   "source": [
    "model = KMeans(n_clusters=5)\n",
    "slice = data.iloc[:,3:7]\n",
    "model.fit(slice)\n",
    "cluster_values = model.predict(slice)\n",
    "data['cluster'] = cluster_values\n",
    "\n",
    "fig = plt.figure()\n",
    "for cluster in range(0,10):\n",
    "    plt.scatter(data[data.cluster == cluster].Score, data[data.cluster == cluster].HelpfulnessDenominator)\n",
    "plt.show()"
   ]
  },
  {
   "cell_type": "code",
   "execution_count": 56,
   "metadata": {},
   "outputs": [
    {
     "data": {
      "image/png": "[encoded data removed]",
      "text/plain": [
       "<Figure size 432x288 with 1 Axes>"
      ]
     },
     "metadata": {
      "needs_background": "light"
     },
     "output_type": "display_data"
    }
   ],
   "source": [
    "prod_per_cluster = {}\n",
    "for cluster in range(0,10):\n",
    "    plt.scatter(data[data.cluster == cluster].Score, data[data.cluster == cluster].HelpfulnessDenominator)\n",
    "plt.show()"
   ]
  },
  {
   "cell_type": "markdown",
   "metadata": {},
   "source": [
    "### adding data features"
   ]
  },
  {
   "cell_type": "code",
   "execution_count": 57,
   "metadata": {},
   "outputs": [],
   "source": [
    "data['Month'] = data.Datetime.dt.month"
   ]
  },
  {
   "cell_type": "code",
   "execution_count": 58,
   "metadata": {},
   "outputs": [],
   "source": [
    "data['DayOfWeek'] = data.Datetime.dt.dayofweek"
   ]
  },
  {
   "cell_type": "code",
   "execution_count": 61,
   "metadata": {},
   "outputs": [],
   "source": [
    "slice = data[[\"HelpfulnessNumerator\", \"HelpfulnessDenominator\", \"Score\", \"Month\", \"text_words\"]]"
   ]
  },
  {
   "cell_type": "code",
   "execution_count": 62,
   "metadata": {},
   "outputs": [
    {
     "data": {
      "text/html": [
       "<div>\n",
       "<style scoped>\n",
       "    .dataframe tbody tr th:only-of-type {\n",
       "        vertical-align: middle;\n",
       "    }\n",
       "\n",
       "    .dataframe tbody tr th {\n",
       "        vertical-align: top;\n",
       "    }\n",
       "\n",
       "    .dataframe thead th {\n",
       "        text-align: right;\n",
       "    }\n",
       "</style>\n",
       "<table border=\"1\" class=\"dataframe\">\n",
       "  <thead>\n",
       "    <tr style=\"text-align: right;\">\n",
       "      <th></th>\n",
       "      <th>HelpfulnessNumerator</th>\n",
       "      <th>HelpfulnessDenominator</th>\n",
       "      <th>Score</th>\n",
       "      <th>Month</th>\n",
       "      <th>text_words</th>\n",
       "    </tr>\n",
       "    <tr>\n",
       "      <th>Id</th>\n",
       "      <th></th>\n",
       "      <th></th>\n",
       "      <th></th>\n",
       "      <th></th>\n",
       "      <th></th>\n",
       "    </tr>\n",
       "  </thead>\n",
       "  <tbody>\n",
       "    <tr>\n",
       "      <th>1</th>\n",
       "      <td>1</td>\n",
       "      <td>1</td>\n",
       "      <td>5</td>\n",
       "      <td>4</td>\n",
       "      <td>[bought, several, vitality, canned, dog, food,...</td>\n",
       "    </tr>\n",
       "    <tr>\n",
       "      <th>2</th>\n",
       "      <td>0</td>\n",
       "      <td>0</td>\n",
       "      <td>1</td>\n",
       "      <td>9</td>\n",
       "      <td>[product, arrived, labeled, jumbo, salted, pea...</td>\n",
       "    </tr>\n",
       "    <tr>\n",
       "      <th>3</th>\n",
       "      <td>1</td>\n",
       "      <td>1</td>\n",
       "      <td>4</td>\n",
       "      <td>8</td>\n",
       "      <td>[confection, around, centuries, light, pillowy...</td>\n",
       "    </tr>\n",
       "    <tr>\n",
       "      <th>4</th>\n",
       "      <td>3</td>\n",
       "      <td>3</td>\n",
       "      <td>2</td>\n",
       "      <td>6</td>\n",
       "      <td>[looking, secret, ingredient, robitussin, beli...</td>\n",
       "    </tr>\n",
       "    <tr>\n",
       "      <th>5</th>\n",
       "      <td>0</td>\n",
       "      <td>0</td>\n",
       "      <td>5</td>\n",
       "      <td>10</td>\n",
       "      <td>[great, taffy, great, price, wide, assortment,...</td>\n",
       "    </tr>\n",
       "    <tr>\n",
       "      <th>...</th>\n",
       "      <td>...</td>\n",
       "      <td>...</td>\n",
       "      <td>...</td>\n",
       "      <td>...</td>\n",
       "      <td>...</td>\n",
       "    </tr>\n",
       "    <tr>\n",
       "      <th>568450</th>\n",
       "      <td>0</td>\n",
       "      <td>0</td>\n",
       "      <td>5</td>\n",
       "      <td>3</td>\n",
       "      <td>[great, sesame, chicken, good, better, restura...</td>\n",
       "    </tr>\n",
       "    <tr>\n",
       "      <th>568451</th>\n",
       "      <td>0</td>\n",
       "      <td>0</td>\n",
       "      <td>2</td>\n",
       "      <td>3</td>\n",
       "      <td>[disappointed, flavor, chocolate, notes, espec...</td>\n",
       "    </tr>\n",
       "    <tr>\n",
       "      <th>568452</th>\n",
       "      <td>2</td>\n",
       "      <td>2</td>\n",
       "      <td>5</td>\n",
       "      <td>2</td>\n",
       "      <td>[stars, small, give, one, training, session, t...</td>\n",
       "    </tr>\n",
       "    <tr>\n",
       "      <th>568453</th>\n",
       "      <td>1</td>\n",
       "      <td>1</td>\n",
       "      <td>5</td>\n",
       "      <td>3</td>\n",
       "      <td>[best, treats, training, rewarding, dog, good,...</td>\n",
       "    </tr>\n",
       "    <tr>\n",
       "      <th>568454</th>\n",
       "      <td>0</td>\n",
       "      <td>0</td>\n",
       "      <td>5</td>\n",
       "      <td>5</td>\n",
       "      <td>[satisfied, product, advertised, use, cereal, ...</td>\n",
       "    </tr>\n",
       "  </tbody>\n",
       "</table>\n",
       "<p>568454 rows × 5 columns</p>\n",
       "</div>"
      ],
      "text/plain": [
       "        HelpfulnessNumerator  HelpfulnessDenominator  Score  Month  \\\n",
       "Id                                                                   \n",
       "1                          1                       1      5      4   \n",
       "2                          0                       0      1      9   \n",
       "3                          1                       1      4      8   \n",
       "4                          3                       3      2      6   \n",
       "5                          0                       0      5     10   \n",
       "...                      ...                     ...    ...    ...   \n",
       "568450                     0                       0      5      3   \n",
       "568451                     0                       0      2      3   \n",
       "568452                     2                       2      5      2   \n",
       "568453                     1                       1      5      3   \n",
       "568454                     0                       0      5      5   \n",
       "\n",
       "                                               text_words  \n",
       "Id                                                         \n",
       "1       [bought, several, vitality, canned, dog, food,...  \n",
       "2       [product, arrived, labeled, jumbo, salted, pea...  \n",
       "3       [confection, around, centuries, light, pillowy...  \n",
       "4       [looking, secret, ingredient, robitussin, beli...  \n",
       "5       [great, taffy, great, price, wide, assortment,...  \n",
       "...                                                   ...  \n",
       "568450  [great, sesame, chicken, good, better, restura...  \n",
       "568451  [disappointed, flavor, chocolate, notes, espec...  \n",
       "568452  [stars, small, give, one, training, session, t...  \n",
       "568453  [best, treats, training, rewarding, dog, good,...  \n",
       "568454  [satisfied, product, advertised, use, cereal, ...  \n",
       "\n",
       "[568454 rows x 5 columns]"
      ]
     },
     "execution_count": 62,
     "metadata": {},
     "output_type": "execute_result"
    }
   ],
   "source": [
    "slice"
   ]
  },
  {
   "cell_type": "code",
   "execution_count": 63,
   "metadata": {},
   "outputs": [
    {
     "name": "stderr",
     "output_type": "stream",
     "text": [
      "  0%|          | 0/17 [00:00<?, ?it/s]\n"
     ]
    },
    {
     "ename": "ValueError",
     "evalue": "setting an array element with a sequence.",
     "output_type": "error",
     "traceback": [
      "\u001b[0;31m---------------------------------------------------------------------------\u001b[0m",
      "\u001b[0;31mTypeError\u001b[0m                                 Traceback (most recent call last)",
      "\u001b[0;31mTypeError\u001b[0m: float() argument must be a string or a number, not 'list'",
      "\nThe above exception was the direct cause of the following exception:\n",
      "\u001b[0;31mValueError\u001b[0m                                Traceback (most recent call last)",
      "\u001b[0;32m<ipython-input-63-a94c40d63c0c>\u001b[0m in \u001b[0;36m<module>\u001b[0;34m\u001b[0m\n\u001b[1;32m      3\u001b[0m \u001b[0;32mfor\u001b[0m \u001b[0mk\u001b[0m \u001b[0;32min\u001b[0m \u001b[0mtqdm\u001b[0m\u001b[0;34m(\u001b[0m\u001b[0mrange\u001b[0m\u001b[0;34m(\u001b[0m\u001b[0;36m3\u001b[0m\u001b[0;34m,\u001b[0m\u001b[0;36m20\u001b[0m\u001b[0;34m)\u001b[0m\u001b[0;34m)\u001b[0m\u001b[0;34m:\u001b[0m\u001b[0;34m\u001b[0m\u001b[0;34m\u001b[0m\u001b[0m\n\u001b[1;32m      4\u001b[0m     \u001b[0melbow_model\u001b[0m\u001b[0;34m=\u001b[0m\u001b[0mKMeans\u001b[0m\u001b[0;34m(\u001b[0m\u001b[0mn_clusters\u001b[0m\u001b[0;34m=\u001b[0m\u001b[0mk\u001b[0m\u001b[0;34m)\u001b[0m\u001b[0;34m\u001b[0m\u001b[0;34m\u001b[0m\u001b[0m\n\u001b[0;32m----> 5\u001b[0;31m     \u001b[0melbow_model\u001b[0m\u001b[0;34m.\u001b[0m\u001b[0mfit_predict\u001b[0m\u001b[0;34m(\u001b[0m\u001b[0mslice\u001b[0m\u001b[0;34m)\u001b[0m\u001b[0;34m\u001b[0m\u001b[0;34m\u001b[0m\u001b[0m\n\u001b[0m\u001b[1;32m      6\u001b[0m     \u001b[0melbow\u001b[0m\u001b[0;34m[\u001b[0m\u001b[0mk\u001b[0m\u001b[0;34m]\u001b[0m\u001b[0;34m=\u001b[0m\u001b[0melbow_model\u001b[0m\u001b[0;34m.\u001b[0m\u001b[0minertia_\u001b[0m\u001b[0;34m\u001b[0m\u001b[0;34m\u001b[0m\u001b[0m\n",
      "\u001b[0;32m~/anaconda3/lib/python3.8/site-packages/sklearn/cluster/_kmeans.py\u001b[0m in \u001b[0;36mfit_predict\u001b[0;34m(self, X, y, sample_weight)\u001b[0m\n\u001b[1;32m   1103\u001b[0m             \u001b[0mIndex\u001b[0m \u001b[0mof\u001b[0m \u001b[0mthe\u001b[0m \u001b[0mcluster\u001b[0m \u001b[0meach\u001b[0m \u001b[0msample\u001b[0m \u001b[0mbelongs\u001b[0m \u001b[0mto\u001b[0m\u001b[0;34m.\u001b[0m\u001b[0;34m\u001b[0m\u001b[0;34m\u001b[0m\u001b[0m\n\u001b[1;32m   1104\u001b[0m         \"\"\"\n\u001b[0;32m-> 1105\u001b[0;31m         \u001b[0;32mreturn\u001b[0m \u001b[0mself\u001b[0m\u001b[0;34m.\u001b[0m\u001b[0mfit\u001b[0m\u001b[0;34m(\u001b[0m\u001b[0mX\u001b[0m\u001b[0;34m,\u001b[0m \u001b[0msample_weight\u001b[0m\u001b[0;34m=\u001b[0m\u001b[0msample_weight\u001b[0m\u001b[0;34m)\u001b[0m\u001b[0;34m.\u001b[0m\u001b[0mlabels_\u001b[0m\u001b[0;34m\u001b[0m\u001b[0;34m\u001b[0m\u001b[0m\n\u001b[0m\u001b[1;32m   1106\u001b[0m \u001b[0;34m\u001b[0m\u001b[0m\n\u001b[1;32m   1107\u001b[0m     \u001b[0;32mdef\u001b[0m \u001b[0mfit_transform\u001b[0m\u001b[0;34m(\u001b[0m\u001b[0mself\u001b[0m\u001b[0;34m,\u001b[0m \u001b[0mX\u001b[0m\u001b[0;34m,\u001b[0m \u001b[0my\u001b[0m\u001b[0;34m=\u001b[0m\u001b[0;32mNone\u001b[0m\u001b[0;34m,\u001b[0m \u001b[0msample_weight\u001b[0m\u001b[0;34m=\u001b[0m\u001b[0;32mNone\u001b[0m\u001b[0;34m)\u001b[0m\u001b[0;34m:\u001b[0m\u001b[0;34m\u001b[0m\u001b[0;34m\u001b[0m\u001b[0m\n",
      "\u001b[0;32m~/anaconda3/lib/python3.8/site-packages/sklearn/cluster/_kmeans.py\u001b[0m in \u001b[0;36mfit\u001b[0;34m(self, X, y, sample_weight)\u001b[0m\n\u001b[1;32m    989\u001b[0m             )\n\u001b[1;32m    990\u001b[0m \u001b[0;34m\u001b[0m\u001b[0m\n\u001b[0;32m--> 991\u001b[0;31m         X = self._validate_data(X, accept_sparse='csr',\n\u001b[0m\u001b[1;32m    992\u001b[0m                                 \u001b[0mdtype\u001b[0m\u001b[0;34m=\u001b[0m\u001b[0;34m[\u001b[0m\u001b[0mnp\u001b[0m\u001b[0;34m.\u001b[0m\u001b[0mfloat64\u001b[0m\u001b[0;34m,\u001b[0m \u001b[0mnp\u001b[0m\u001b[0;34m.\u001b[0m\u001b[0mfloat32\u001b[0m\u001b[0;34m]\u001b[0m\u001b[0;34m,\u001b[0m\u001b[0;34m\u001b[0m\u001b[0;34m\u001b[0m\u001b[0m\n\u001b[1;32m    993\u001b[0m                                 \u001b[0morder\u001b[0m\u001b[0;34m=\u001b[0m\u001b[0;34m'C'\u001b[0m\u001b[0;34m,\u001b[0m \u001b[0mcopy\u001b[0m\u001b[0;34m=\u001b[0m\u001b[0mself\u001b[0m\u001b[0;34m.\u001b[0m\u001b[0mcopy_x\u001b[0m\u001b[0;34m,\u001b[0m\u001b[0;34m\u001b[0m\u001b[0;34m\u001b[0m\u001b[0m\n",
      "\u001b[0;32m~/anaconda3/lib/python3.8/site-packages/sklearn/base.py\u001b[0m in \u001b[0;36m_validate_data\u001b[0;34m(self, X, y, reset, validate_separately, **check_params)\u001b[0m\n\u001b[1;32m    418\u001b[0m                     \u001b[0;34mf\"requires y to be passed, but the target y is None.\"\u001b[0m\u001b[0;34m\u001b[0m\u001b[0;34m\u001b[0m\u001b[0m\n\u001b[1;32m    419\u001b[0m                 )\n\u001b[0;32m--> 420\u001b[0;31m             \u001b[0mX\u001b[0m \u001b[0;34m=\u001b[0m \u001b[0mcheck_array\u001b[0m\u001b[0;34m(\u001b[0m\u001b[0mX\u001b[0m\u001b[0;34m,\u001b[0m \u001b[0;34m**\u001b[0m\u001b[0mcheck_params\u001b[0m\u001b[0;34m)\u001b[0m\u001b[0;34m\u001b[0m\u001b[0;34m\u001b[0m\u001b[0m\n\u001b[0m\u001b[1;32m    421\u001b[0m             \u001b[0mout\u001b[0m \u001b[0;34m=\u001b[0m \u001b[0mX\u001b[0m\u001b[0;34m\u001b[0m\u001b[0;34m\u001b[0m\u001b[0m\n\u001b[1;32m    422\u001b[0m         \u001b[0;32melse\u001b[0m\u001b[0;34m:\u001b[0m\u001b[0;34m\u001b[0m\u001b[0;34m\u001b[0m\u001b[0m\n",
      "\u001b[0;32m~/anaconda3/lib/python3.8/site-packages/sklearn/utils/validation.py\u001b[0m in \u001b[0;36minner_f\u001b[0;34m(*args, **kwargs)\u001b[0m\n\u001b[1;32m     71\u001b[0m                           FutureWarning)\n\u001b[1;32m     72\u001b[0m         \u001b[0mkwargs\u001b[0m\u001b[0;34m.\u001b[0m\u001b[0mupdate\u001b[0m\u001b[0;34m(\u001b[0m\u001b[0;34m{\u001b[0m\u001b[0mk\u001b[0m\u001b[0;34m:\u001b[0m \u001b[0marg\u001b[0m \u001b[0;32mfor\u001b[0m \u001b[0mk\u001b[0m\u001b[0;34m,\u001b[0m \u001b[0marg\u001b[0m \u001b[0;32min\u001b[0m \u001b[0mzip\u001b[0m\u001b[0;34m(\u001b[0m\u001b[0msig\u001b[0m\u001b[0;34m.\u001b[0m\u001b[0mparameters\u001b[0m\u001b[0;34m,\u001b[0m \u001b[0margs\u001b[0m\u001b[0;34m)\u001b[0m\u001b[0;34m}\u001b[0m\u001b[0;34m)\u001b[0m\u001b[0;34m\u001b[0m\u001b[0;34m\u001b[0m\u001b[0m\n\u001b[0;32m---> 73\u001b[0;31m         \u001b[0;32mreturn\u001b[0m \u001b[0mf\u001b[0m\u001b[0;34m(\u001b[0m\u001b[0;34m**\u001b[0m\u001b[0mkwargs\u001b[0m\u001b[0;34m)\u001b[0m\u001b[0;34m\u001b[0m\u001b[0;34m\u001b[0m\u001b[0m\n\u001b[0m\u001b[1;32m     74\u001b[0m     \u001b[0;32mreturn\u001b[0m \u001b[0minner_f\u001b[0m\u001b[0;34m\u001b[0m\u001b[0;34m\u001b[0m\u001b[0m\n\u001b[1;32m     75\u001b[0m \u001b[0;34m\u001b[0m\u001b[0m\n",
      "\u001b[0;32m~/anaconda3/lib/python3.8/site-packages/sklearn/utils/validation.py\u001b[0m in \u001b[0;36mcheck_array\u001b[0;34m(array, accept_sparse, accept_large_sparse, dtype, order, copy, force_all_finite, ensure_2d, allow_nd, ensure_min_samples, ensure_min_features, estimator)\u001b[0m\n\u001b[1;32m    597\u001b[0m                     \u001b[0marray\u001b[0m \u001b[0;34m=\u001b[0m \u001b[0marray\u001b[0m\u001b[0;34m.\u001b[0m\u001b[0mastype\u001b[0m\u001b[0;34m(\u001b[0m\u001b[0mdtype\u001b[0m\u001b[0;34m,\u001b[0m \u001b[0mcasting\u001b[0m\u001b[0;34m=\u001b[0m\u001b[0;34m\"unsafe\"\u001b[0m\u001b[0;34m,\u001b[0m \u001b[0mcopy\u001b[0m\u001b[0;34m=\u001b[0m\u001b[0;32mFalse\u001b[0m\u001b[0;34m)\u001b[0m\u001b[0;34m\u001b[0m\u001b[0;34m\u001b[0m\u001b[0m\n\u001b[1;32m    598\u001b[0m                 \u001b[0;32melse\u001b[0m\u001b[0;34m:\u001b[0m\u001b[0;34m\u001b[0m\u001b[0;34m\u001b[0m\u001b[0m\n\u001b[0;32m--> 599\u001b[0;31m                     \u001b[0marray\u001b[0m \u001b[0;34m=\u001b[0m \u001b[0mnp\u001b[0m\u001b[0;34m.\u001b[0m\u001b[0masarray\u001b[0m\u001b[0;34m(\u001b[0m\u001b[0marray\u001b[0m\u001b[0;34m,\u001b[0m \u001b[0morder\u001b[0m\u001b[0;34m=\u001b[0m\u001b[0morder\u001b[0m\u001b[0;34m,\u001b[0m \u001b[0mdtype\u001b[0m\u001b[0;34m=\u001b[0m\u001b[0mdtype\u001b[0m\u001b[0;34m)\u001b[0m\u001b[0;34m\u001b[0m\u001b[0;34m\u001b[0m\u001b[0m\n\u001b[0m\u001b[1;32m    600\u001b[0m             \u001b[0;32mexcept\u001b[0m \u001b[0mComplexWarning\u001b[0m\u001b[0;34m:\u001b[0m\u001b[0;34m\u001b[0m\u001b[0;34m\u001b[0m\u001b[0m\n\u001b[1;32m    601\u001b[0m                 raise ValueError(\"Complex data not supported\\n\"\n",
      "\u001b[0;32m~/anaconda3/lib/python3.8/site-packages/numpy/core/_asarray.py\u001b[0m in \u001b[0;36masarray\u001b[0;34m(a, dtype, order)\u001b[0m\n\u001b[1;32m     83\u001b[0m \u001b[0;34m\u001b[0m\u001b[0m\n\u001b[1;32m     84\u001b[0m     \"\"\"\n\u001b[0;32m---> 85\u001b[0;31m     \u001b[0;32mreturn\u001b[0m \u001b[0marray\u001b[0m\u001b[0;34m(\u001b[0m\u001b[0ma\u001b[0m\u001b[0;34m,\u001b[0m \u001b[0mdtype\u001b[0m\u001b[0;34m,\u001b[0m \u001b[0mcopy\u001b[0m\u001b[0;34m=\u001b[0m\u001b[0;32mFalse\u001b[0m\u001b[0;34m,\u001b[0m \u001b[0morder\u001b[0m\u001b[0;34m=\u001b[0m\u001b[0morder\u001b[0m\u001b[0;34m)\u001b[0m\u001b[0;34m\u001b[0m\u001b[0;34m\u001b[0m\u001b[0m\n\u001b[0m\u001b[1;32m     86\u001b[0m \u001b[0;34m\u001b[0m\u001b[0m\n\u001b[1;32m     87\u001b[0m \u001b[0;34m\u001b[0m\u001b[0m\n",
      "\u001b[0;31mValueError\u001b[0m: setting an array element with a sequence."
     ]
    }
   ],
   "source": [
    "elbow = {}\n",
    "\n",
    "for k in tqdm(range(3,20)):\n",
    "    elbow_model=KMeans(n_clusters=k)\n",
    "    elbow_model.fit_predict(slice)\n",
    "    elbow[k]=elbow_model.inertia_"
   ]
  },
  {
   "cell_type": "code",
   "execution_count": 87,
   "metadata": {},
   "outputs": [
    {
     "data": {
      "text/plain": [
       "Text(10, 200000, 'Cluster Size')"
      ]
     },
     "execution_count": 87,
     "metadata": {},
     "output_type": "execute_result"
    },
    {
     "data": {
      "image/png": "[encoded data removed]",
      "text/plain": [
       "<Figure size 432x288 with 1 Axes>"
      ]
     },
     "metadata": {
      "needs_background": "light"
     },
     "output_type": "display_data"
    }
   ],
   "source": [
    "plt.plot(list(elbow.keys()), list(elbow.values())) #also 7 is ok now\n",
    "plt.annotate('Cluster Size', xy=(7, elbow[7]),\n",
    "            xytext=(10,200000),\n",
    "            arrowprops = dict(facecolor='black',shrink=0.05))"
   ]
  },
  {
   "cell_type": "code",
   "execution_count": 88,
   "metadata": {},
   "outputs": [],
   "source": [
    "model = KMeans(7)\n",
    "cluster = model.fit_predict(slice)\n",
    "data['cluster'] = cluster"
   ]
  },
  {
   "cell_type": "code",
   "execution_count": 90,
   "metadata": {},
   "outputs": [
    {
     "data": {
      "image/png": "[encoded data removed]",
      "text/plain": [
       "<Figure size 432x288 with 1 Axes>"
      ]
     },
     "metadata": {
      "needs_background": "light"
     },
     "output_type": "display_data"
    }
   ],
   "source": [
    "fig = plt.figure()\n",
    "for cluster in range(0,7):\n",
    "    plt.scatter(data[data.cluster == cluster].Month, data[data.cluster == cluster].DayOfWeek)\n",
    "plt.show()"
   ]
  },
  {
   "cell_type": "code",
   "execution_count": null,
   "metadata": {},
   "outputs": [],
   "source": []
  },
  {
   "cell_type": "code",
   "execution_count": null,
   "metadata": {},
   "outputs": [],
   "source": []
  },
  {
   "cell_type": "code",
   "execution_count": null,
   "metadata": {},
   "outputs": [],
   "source": []
  },
  {
   "cell_type": "code",
   "execution_count": null,
   "metadata": {},
   "outputs": [],
   "source": []
  },
  {
   "cell_type": "code",
   "execution_count": null,
   "metadata": {},
   "outputs": [],
   "source": []
  },
  {
   "cell_type": "code",
   "execution_count": null,
   "metadata": {},
   "outputs": [],
   "source": []
  },
  {
   "cell_type": "code",
   "execution_count": null,
   "metadata": {},
   "outputs": [],
   "source": []
  },
  {
   "cell_type": "code",
   "execution_count": null,
   "metadata": {},
   "outputs": [],
   "source": []
  },
  {
   "cell_type": "code",
   "execution_count": null,
   "metadata": {},
   "outputs": [],
   "source": []
  },
  {
   "cell_type": "code",
   "execution_count": null,
   "metadata": {},
   "outputs": [],
   "source": []
  },
  {
   "cell_type": "code",
   "execution_count": 26,
   "metadata": {},
   "outputs": [
    {
     "data": {
      "text/html": [
       "<div>\n",
       "<style scoped>\n",
       "    .dataframe tbody tr th:only-of-type {\n",
       "        vertical-align: middle;\n",
       "    }\n",
       "\n",
       "    .dataframe tbody tr th {\n",
       "        vertical-align: top;\n",
       "    }\n",
       "\n",
       "    .dataframe thead th {\n",
       "        text-align: right;\n",
       "    }\n",
       "</style>\n",
       "<table border=\"1\" class=\"dataframe\">\n",
       "  <thead>\n",
       "    <tr style=\"text-align: right;\">\n",
       "      <th></th>\n",
       "      <th>ProductId</th>\n",
       "      <th>UserId</th>\n",
       "      <th>ProfileName</th>\n",
       "      <th>HelpfulnessNumerator</th>\n",
       "      <th>HelpfulnessDenominator</th>\n",
       "      <th>Score</th>\n",
       "      <th>Time</th>\n",
       "      <th>Summary</th>\n",
       "      <th>Text</th>\n",
       "      <th>text_words</th>\n",
       "    </tr>\n",
       "    <tr>\n",
       "      <th>Id</th>\n",
       "      <th></th>\n",
       "      <th></th>\n",
       "      <th></th>\n",
       "      <th></th>\n",
       "      <th></th>\n",
       "      <th></th>\n",
       "      <th></th>\n",
       "      <th></th>\n",
       "      <th></th>\n",
       "      <th></th>\n",
       "    </tr>\n",
       "  </thead>\n",
       "  <tbody>\n",
       "    <tr>\n",
       "      <th>1</th>\n",
       "      <td>B001E4KFG0</td>\n",
       "      <td>A3SGXH7AUHU8GW</td>\n",
       "      <td>delmartian</td>\n",
       "      <td>1</td>\n",
       "      <td>1</td>\n",
       "      <td>5</td>\n",
       "      <td>1303862400</td>\n",
       "      <td>Good Quality Dog Food</td>\n",
       "      <td>I have bought several of the Vitality canned d...</td>\n",
       "      <td>[bought, several, vitality, canned, dog, food,...</td>\n",
       "    </tr>\n",
       "    <tr>\n",
       "      <th>2</th>\n",
       "      <td>B00813GRG4</td>\n",
       "      <td>A1D87F6ZCVE5NK</td>\n",
       "      <td>dll pa</td>\n",
       "      <td>0</td>\n",
       "      <td>0</td>\n",
       "      <td>1</td>\n",
       "      <td>1346976000</td>\n",
       "      <td>Not as Advertised</td>\n",
       "      <td>Product arrived labeled as Jumbo Salted Peanut...</td>\n",
       "      <td>[product, arrived, labeled, jumbo, salted, pea...</td>\n",
       "    </tr>\n",
       "    <tr>\n",
       "      <th>3</th>\n",
       "      <td>B000LQOCH0</td>\n",
       "      <td>ABXLMWJIXXAIN</td>\n",
       "      <td>Natalia Corres \"Natalia Corres\"</td>\n",
       "      <td>1</td>\n",
       "      <td>1</td>\n",
       "      <td>4</td>\n",
       "      <td>1219017600</td>\n",
       "      <td>\"Delight\" says it all</td>\n",
       "      <td>This is a confection that has been around a fe...</td>\n",
       "      <td>[confection, around, centuries, light, pillowy...</td>\n",
       "    </tr>\n",
       "    <tr>\n",
       "      <th>4</th>\n",
       "      <td>B000UA0QIQ</td>\n",
       "      <td>A395BORC6FGVXV</td>\n",
       "      <td>Karl</td>\n",
       "      <td>3</td>\n",
       "      <td>3</td>\n",
       "      <td>2</td>\n",
       "      <td>1307923200</td>\n",
       "      <td>Cough Medicine</td>\n",
       "      <td>If you are looking for the secret ingredient i...</td>\n",
       "      <td>[looking, secret, ingredient, robitussin, beli...</td>\n",
       "    </tr>\n",
       "    <tr>\n",
       "      <th>5</th>\n",
       "      <td>B006K2ZZ7K</td>\n",
       "      <td>A1UQRSCLF8GW1T</td>\n",
       "      <td>Michael D. Bigham \"M. Wassir\"</td>\n",
       "      <td>0</td>\n",
       "      <td>0</td>\n",
       "      <td>5</td>\n",
       "      <td>1350777600</td>\n",
       "      <td>Great taffy</td>\n",
       "      <td>Great taffy at a great price.  There was a wid...</td>\n",
       "      <td>[great, taffy, great, price, wide, assortment,...</td>\n",
       "    </tr>\n",
       "  </tbody>\n",
       "</table>\n",
       "</div>"
      ],
      "text/plain": [
       "     ProductId          UserId                      ProfileName  \\\n",
       "Id                                                                \n",
       "1   B001E4KFG0  A3SGXH7AUHU8GW                       delmartian   \n",
       "2   B00813GRG4  A1D87F6ZCVE5NK                           dll pa   \n",
       "3   B000LQOCH0   ABXLMWJIXXAIN  Natalia Corres \"Natalia Corres\"   \n",
       "4   B000UA0QIQ  A395BORC6FGVXV                             Karl   \n",
       "5   B006K2ZZ7K  A1UQRSCLF8GW1T    Michael D. Bigham \"M. Wassir\"   \n",
       "\n",
       "    HelpfulnessNumerator  HelpfulnessDenominator  Score        Time  \\\n",
       "Id                                                                    \n",
       "1                      1                       1      5  1303862400   \n",
       "2                      0                       0      1  1346976000   \n",
       "3                      1                       1      4  1219017600   \n",
       "4                      3                       3      2  1307923200   \n",
       "5                      0                       0      5  1350777600   \n",
       "\n",
       "                  Summary                                               Text  \\\n",
       "Id                                                                             \n",
       "1   Good Quality Dog Food  I have bought several of the Vitality canned d...   \n",
       "2       Not as Advertised  Product arrived labeled as Jumbo Salted Peanut...   \n",
       "3   \"Delight\" says it all  This is a confection that has been around a fe...   \n",
       "4          Cough Medicine  If you are looking for the secret ingredient i...   \n",
       "5             Great taffy  Great taffy at a great price.  There was a wid...   \n",
       "\n",
       "                                           text_words  \n",
       "Id                                                     \n",
       "1   [bought, several, vitality, canned, dog, food,...  \n",
       "2   [product, arrived, labeled, jumbo, salted, pea...  \n",
       "3   [confection, around, centuries, light, pillowy...  \n",
       "4   [looking, secret, ingredient, robitussin, beli...  \n",
       "5   [great, taffy, great, price, wide, assortment,...  "
      ]
     },
     "execution_count": 26,
     "metadata": {},
     "output_type": "execute_result"
    }
   ],
   "source": [
    "data.head()"
   ]
  },
  {
   "cell_type": "code",
   "execution_count": 7,
   "metadata": {},
   "outputs": [
    {
     "data": {
      "text/plain": [
       "Index(['Id', 'ProductId', 'UserId', 'ProfileName', 'HelpfulnessNumerator',\n",
       "       'HelpfulnessDenominator', 'Score', 'Time', 'Summary', 'Text'],\n",
       "      dtype='object')"
      ]
     },
     "execution_count": 7,
     "metadata": {},
     "output_type": "execute_result"
    }
   ],
   "source": [
    "data.columns"
   ]
  },
  {
   "cell_type": "code",
   "execution_count": 8,
   "metadata": {},
   "outputs": [],
   "source": [
    "texts = data['Text']"
   ]
  },
  {
   "cell_type": "code",
   "execution_count": 9,
   "metadata": {},
   "outputs": [
    {
     "data": {
      "text/plain": [
       "0     I have bought several of the Vitality canned d...\n",
       "1     Product arrived labeled as Jumbo Salted Peanut...\n",
       "2     This is a confection that has been around a fe...\n",
       "3     If you are looking for the secret ingredient i...\n",
       "4     Great taffy at a great price.  There was a wid...\n",
       "5     I got a wild hair for taffy and ordered this f...\n",
       "6     This saltwater taffy had great flavors and was...\n",
       "7     This taffy is so good.  It is very soft and ch...\n",
       "8     Right now I'm mostly just sprouting this so my...\n",
       "9     This is a very healthy dog food. Good for thei...\n",
       "10    I don't know if it's the cactus or the tequila...\n",
       "11    One of my boys needed to lose some weight and ...\n",
       "12    My cats have been happily eating Felidae Plati...\n",
       "13    good flavor! these came securely packed... the...\n",
       "14    The Strawberry Twizzlers are my guilty pleasur...\n",
       "15    My daughter loves twizzlers and this shipment ...\n",
       "16    I love eating them and they are good for watch...\n",
       "17    I am very satisfied with my Twizzler purchase....\n",
       "18    Twizzlers, Strawberry my childhood favorite ca...\n",
       "19    Candy was delivered very fast and was purchase...\n",
       "Name: Text, dtype: object"
      ]
     },
     "execution_count": 9,
     "metadata": {},
     "output_type": "execute_result"
    }
   ],
   "source": [
    "texts.head(20)"
   ]
  },
  {
   "cell_type": "code",
   "execution_count": 10,
   "metadata": {},
   "outputs": [],
   "source": [
    "lemmatizer = WordNetLemmatizer()"
   ]
  },
  {
   "cell_type": "code",
   "execution_count": 11,
   "metadata": {},
   "outputs": [],
   "source": [
    "stop_words = set(stopwords.words('english'))"
   ]
  },
  {
   "cell_type": "code",
   "execution_count": 12,
   "metadata": {},
   "outputs": [],
   "source": [
    "def clean_text(text):\n",
    "    words = word_tokenize(text)\n",
    "    good_words = []\n",
    "    for word in words:\n",
    "        if word.lower() not in stop_words and word.isalpha():\n",
    "            good_words.append(word.lower())\n",
    "            \n",
    "    return good_words"
   ]
  },
  {
   "cell_type": "code",
   "execution_count": 13,
   "metadata": {},
   "outputs": [
    {
     "data": {
      "text/plain": [
       "'I have bought several of the Vitality canned dog food products and have found them all to be of good quality. The product looks more like a stew than a processed meat and it smells better. My Labrador is finicky and she appreciates this product better than  most.'"
      ]
     },
     "execution_count": 13,
     "metadata": {},
     "output_type": "execute_result"
    }
   ],
   "source": [
    "data.Text.iloc[0]"
   ]
  },
  {
   "cell_type": "code",
   "execution_count": 14,
   "metadata": {},
   "outputs": [
    {
     "data": {
      "text/plain": [
       "array([[1, 'B001E4KFG0', 'A3SGXH7AUHU8GW', ..., 1303862400,\n",
       "        'Good Quality Dog Food',\n",
       "        'I have bought several of the Vitality canned dog food products and have found them all to be of good quality. The product looks more like a stew than a processed meat and it smells better. My Labrador is finicky and she appreciates this product better than  most.'],\n",
       "       [2, 'B00813GRG4', 'A1D87F6ZCVE5NK', ..., 1346976000,\n",
       "        'Not as Advertised',\n",
       "        'Product arrived labeled as Jumbo Salted Peanuts...the peanuts were actually small sized unsalted. Not sure if this was an error or if the vendor intended to represent the product as \"Jumbo\".'],\n",
       "       [3, 'B000LQOCH0', 'ABXLMWJIXXAIN', ..., 1219017600,\n",
       "        '\"Delight\" says it all',\n",
       "        'This is a confection that has been around a few centuries.  It is a light, pillowy citrus gelatin with nuts - in this case Filberts. And it is cut into tiny squares and then liberally coated with powdered sugar.  And it is a tiny mouthful of heaven.  Not too chewy, and very flavorful.  I highly recommend this yummy treat.  If you are familiar with the story of C.S. Lewis\\' \"The Lion, The Witch, and The Wardrobe\" - this is the treat that seduces Edmund into selling out his Brother and Sisters to the Witch.'],\n",
       "       ...,\n",
       "       [568452, 'B004I613EE', 'A121AA1GQV751Z', ..., 1329782400,\n",
       "        'Perfect for our maltipoo',\n",
       "        'These stars are small, so you can give 10-15 of those in one training session.  I tried to train our dog with \"Ceaser dog treats\",  it just made our puppy hyper.  If you compare the ingredients, you will know why.  Little stars has just basic food ingredients without any preservatives and food coloring.  Sweet potato flavor also did not make my hand smell like dog food.'],\n",
       "       [568453, 'B004I613EE', 'A3IBEVCTXKNOH', ..., 1331596800,\n",
       "        'Favorite Training and reward treat',\n",
       "        'These are the BEST treats for training and rewarding your dog for being good while grooming.  Lower in calories and loved by all the doggies.  Sweet potatoes seem to be their favorite Wet Noses treat!'],\n",
       "       [568454, 'B001LR2CU2', 'A3LGQPJCZVL9UC', ..., 1338422400,\n",
       "        'Great Honey',\n",
       "        'I am very satisfied ,product is as advertised, I use it on cereal, with raw vinegar, and as a general sweetner.']],\n",
       "      dtype=object)"
      ]
     },
     "execution_count": 14,
     "metadata": {},
     "output_type": "execute_result"
    }
   ],
   "source": [
    "X = np.array(data)\n",
    "X"
   ]
  },
  {
   "cell_type": "code",
   "execution_count": 15,
   "metadata": {},
   "outputs": [
    {
     "data": {
      "text/plain": [
       "['bought',\n",
       " 'several',\n",
       " 'vitality',\n",
       " 'canned',\n",
       " 'dog',\n",
       " 'food',\n",
       " 'products',\n",
       " 'found',\n",
       " 'good',\n",
       " 'quality',\n",
       " 'product',\n",
       " 'looks',\n",
       " 'like',\n",
       " 'stew',\n",
       " 'processed',\n",
       " 'meat',\n",
       " 'smells',\n",
       " 'better',\n",
       " 'labrador',\n",
       " 'finicky',\n",
       " 'appreciates',\n",
       " 'product',\n",
       " 'better']"
      ]
     },
     "execution_count": 15,
     "metadata": {},
     "output_type": "execute_result"
    }
   ],
   "source": [
    "clean_text(data.Text.iloc[0])"
   ]
  },
  {
   "cell_type": "code",
   "execution_count": 16,
   "metadata": {},
   "outputs": [
    {
     "data": {
      "text/plain": [
       "0         [bought, several, vitality, canned, dog, food,...\n",
       "1         [product, arrived, labeled, jumbo, salted, pea...\n",
       "2         [confection, around, centuries, light, pillowy...\n",
       "3         [looking, secret, ingredient, robitussin, beli...\n",
       "4         [great, taffy, great, price, wide, assortment,...\n",
       "                                ...                        \n",
       "568449    [great, sesame, chicken, good, better, restura...\n",
       "568450    [disappointed, flavor, chocolate, notes, espec...\n",
       "568451    [stars, small, give, one, training, session, t...\n",
       "568452    [best, treats, training, rewarding, dog, good,...\n",
       "568453    [satisfied, product, advertised, use, cereal, ...\n",
       "Name: text_words, Length: 568454, dtype: object"
      ]
     },
     "execution_count": 16,
     "metadata": {},
     "output_type": "execute_result"
    }
   ],
   "source": [
    "data['text_words'] = data.Text.apply(lambda x: clean_text(x))\n",
    "data['text_words']"
   ]
  },
  {
   "cell_type": "code",
   "execution_count": 17,
   "metadata": {},
   "outputs": [],
   "source": [
    "flat_words = []\n",
    "for single_row in data.text_words:\n",
    "    for word in single_row:\n",
    "        flat_words.append(word)"
   ]
  },
  {
   "cell_type": "code",
   "execution_count": 20,
   "metadata": {},
   "outputs": [],
   "source": [
    "text = data.Text[5000]"
   ]
  },
  {
   "cell_type": "code",
   "execution_count": 21,
   "metadata": {},
   "outputs": [
    {
     "ename": "ValueError",
     "evalue": "Expected 2D array, got scalar array instead:\narray=I thought I'd try the multi-pack to see which flavor I liked the best, but I like them all. They are healthy, fulfilling, and all good ingredients I can actually pronounce. These are the smaller packs, and now I can proceed to ordering the larger bags. Love these cookies!.\nReshape your data either using array.reshape(-1, 1) if your data has a single feature or array.reshape(1, -1) if it contains a single sample.",
     "output_type": "error",
     "traceback": [
      "\u001b[0;31m---------------------------------------------------------------------------\u001b[0m",
      "\u001b[0;31mValueError\u001b[0m                                Traceback (most recent call last)",
      "\u001b[0;32m<ipython-input-21-d6c30e89d418>\u001b[0m in \u001b[0;36m<module>\u001b[0;34m\u001b[0m\n\u001b[0;32m----> 1\u001b[0;31m \u001b[0msvd\u001b[0m\u001b[0;34m.\u001b[0m\u001b[0mtransform\u001b[0m\u001b[0;34m(\u001b[0m\u001b[0mtext\u001b[0m\u001b[0;34m)\u001b[0m\u001b[0;34m\u001b[0m\u001b[0;34m\u001b[0m\u001b[0m\n\u001b[0m",
      "\u001b[0;32m~/anaconda3/lib/python3.8/site-packages/sklearn/decomposition/_truncated_svd.py\u001b[0m in \u001b[0;36mtransform\u001b[0;34m(self, X)\u001b[0m\n\u001b[1;32m    213\u001b[0m             \u001b[0mReduced\u001b[0m \u001b[0mversion\u001b[0m \u001b[0mof\u001b[0m \u001b[0mX\u001b[0m\u001b[0;34m.\u001b[0m \u001b[0mThis\u001b[0m \u001b[0mwill\u001b[0m \u001b[0malways\u001b[0m \u001b[0mbe\u001b[0m \u001b[0ma\u001b[0m \u001b[0mdense\u001b[0m \u001b[0marray\u001b[0m\u001b[0;34m.\u001b[0m\u001b[0;34m\u001b[0m\u001b[0;34m\u001b[0m\u001b[0m\n\u001b[1;32m    214\u001b[0m         \"\"\"\n\u001b[0;32m--> 215\u001b[0;31m         \u001b[0mX\u001b[0m \u001b[0;34m=\u001b[0m \u001b[0mcheck_array\u001b[0m\u001b[0;34m(\u001b[0m\u001b[0mX\u001b[0m\u001b[0;34m,\u001b[0m \u001b[0maccept_sparse\u001b[0m\u001b[0;34m=\u001b[0m\u001b[0;34m[\u001b[0m\u001b[0;34m'csr'\u001b[0m\u001b[0;34m,\u001b[0m \u001b[0;34m'csc'\u001b[0m\u001b[0;34m]\u001b[0m\u001b[0;34m)\u001b[0m\u001b[0;34m\u001b[0m\u001b[0;34m\u001b[0m\u001b[0m\n\u001b[0m\u001b[1;32m    216\u001b[0m         \u001b[0mcheck_is_fitted\u001b[0m\u001b[0;34m(\u001b[0m\u001b[0mself\u001b[0m\u001b[0;34m)\u001b[0m\u001b[0;34m\u001b[0m\u001b[0;34m\u001b[0m\u001b[0m\n\u001b[1;32m    217\u001b[0m         \u001b[0;32mreturn\u001b[0m \u001b[0msafe_sparse_dot\u001b[0m\u001b[0;34m(\u001b[0m\u001b[0mX\u001b[0m\u001b[0;34m,\u001b[0m \u001b[0mself\u001b[0m\u001b[0;34m.\u001b[0m\u001b[0mcomponents_\u001b[0m\u001b[0;34m.\u001b[0m\u001b[0mT\u001b[0m\u001b[0;34m)\u001b[0m\u001b[0;34m\u001b[0m\u001b[0;34m\u001b[0m\u001b[0m\n",
      "\u001b[0;32m~/anaconda3/lib/python3.8/site-packages/sklearn/utils/validation.py\u001b[0m in \u001b[0;36minner_f\u001b[0;34m(*args, **kwargs)\u001b[0m\n\u001b[1;32m     71\u001b[0m                           FutureWarning)\n\u001b[1;32m     72\u001b[0m         \u001b[0mkwargs\u001b[0m\u001b[0;34m.\u001b[0m\u001b[0mupdate\u001b[0m\u001b[0;34m(\u001b[0m\u001b[0;34m{\u001b[0m\u001b[0mk\u001b[0m\u001b[0;34m:\u001b[0m \u001b[0marg\u001b[0m \u001b[0;32mfor\u001b[0m \u001b[0mk\u001b[0m\u001b[0;34m,\u001b[0m \u001b[0marg\u001b[0m \u001b[0;32min\u001b[0m \u001b[0mzip\u001b[0m\u001b[0;34m(\u001b[0m\u001b[0msig\u001b[0m\u001b[0;34m.\u001b[0m\u001b[0mparameters\u001b[0m\u001b[0;34m,\u001b[0m \u001b[0margs\u001b[0m\u001b[0;34m)\u001b[0m\u001b[0;34m}\u001b[0m\u001b[0;34m)\u001b[0m\u001b[0;34m\u001b[0m\u001b[0;34m\u001b[0m\u001b[0m\n\u001b[0;32m---> 73\u001b[0;31m         \u001b[0;32mreturn\u001b[0m \u001b[0mf\u001b[0m\u001b[0;34m(\u001b[0m\u001b[0;34m**\u001b[0m\u001b[0mkwargs\u001b[0m\u001b[0;34m)\u001b[0m\u001b[0;34m\u001b[0m\u001b[0;34m\u001b[0m\u001b[0m\n\u001b[0m\u001b[1;32m     74\u001b[0m     \u001b[0;32mreturn\u001b[0m \u001b[0minner_f\u001b[0m\u001b[0;34m\u001b[0m\u001b[0;34m\u001b[0m\u001b[0m\n\u001b[1;32m     75\u001b[0m \u001b[0;34m\u001b[0m\u001b[0m\n",
      "\u001b[0;32m~/anaconda3/lib/python3.8/site-packages/sklearn/utils/validation.py\u001b[0m in \u001b[0;36mcheck_array\u001b[0;34m(array, accept_sparse, accept_large_sparse, dtype, order, copy, force_all_finite, ensure_2d, allow_nd, ensure_min_samples, ensure_min_features, estimator)\u001b[0m\n\u001b[1;32m    611\u001b[0m             \u001b[0;31m# If input is scalar raise error\u001b[0m\u001b[0;34m\u001b[0m\u001b[0;34m\u001b[0m\u001b[0;34m\u001b[0m\u001b[0m\n\u001b[1;32m    612\u001b[0m             \u001b[0;32mif\u001b[0m \u001b[0marray\u001b[0m\u001b[0;34m.\u001b[0m\u001b[0mndim\u001b[0m \u001b[0;34m==\u001b[0m \u001b[0;36m0\u001b[0m\u001b[0;34m:\u001b[0m\u001b[0;34m\u001b[0m\u001b[0;34m\u001b[0m\u001b[0m\n\u001b[0;32m--> 613\u001b[0;31m                 raise ValueError(\n\u001b[0m\u001b[1;32m    614\u001b[0m                     \u001b[0;34m\"Expected 2D array, got scalar array instead:\\narray={}.\\n\"\u001b[0m\u001b[0;34m\u001b[0m\u001b[0;34m\u001b[0m\u001b[0m\n\u001b[1;32m    615\u001b[0m                     \u001b[0;34m\"Reshape your data either using array.reshape(-1, 1) if \"\u001b[0m\u001b[0;34m\u001b[0m\u001b[0;34m\u001b[0m\u001b[0m\n",
      "\u001b[0;31mValueError\u001b[0m: Expected 2D array, got scalar array instead:\narray=I thought I'd try the multi-pack to see which flavor I liked the best, but I like them all. They are healthy, fulfilling, and all good ingredients I can actually pronounce. These are the smaller packs, and now I can proceed to ordering the larger bags. Love these cookies!.\nReshape your data either using array.reshape(-1, 1) if your data has a single feature or array.reshape(1, -1) if it contains a single sample."
     ]
    }
   ],
   "source": [
    "svd.transform(text)"
   ]
  },
  {
   "cell_type": "code",
   "execution_count": 19,
   "metadata": {},
   "outputs": [],
   "source": [
    "svd = TruncatedSVD(n_components=100)"
   ]
  },
  {
   "cell_type": "code",
   "execution_count": null,
   "metadata": {},
   "outputs": [],
   "source": [
    "svd.fit()"
   ]
  },
  {
   "cell_type": "code",
   "execution_count": 18,
   "metadata": {},
   "outputs": [
    {
     "data": {
      "text/plain": [
       "<matplotlib.axes._subplots.AxesSubplot at 0x7fd664747130>"
      ]
     },
     "execution_count": 18,
     "metadata": {},
     "output_type": "execute_result"
    },
    {
     "data": {
      "image/png": "[encoded data removed]",
      "text/plain": [
       "<Figure size 720x7200 with 1 Axes>"
      ]
     },
     "metadata": {
      "needs_background": "light"
     },
     "output_type": "display_data"
    }
   ],
   "source": [
    "pd.Series(flat_words).value_counts().sort_values(ascending = False).tail(500).plot.barh(figsize=(10,100))"
   ]
  },
  {
   "cell_type": "code",
   "execution_count": 30,
   "metadata": {},
   "outputs": [
    {
     "data": {
      "image/png": "[encoded data removed]",
      "text/plain": [
       "<Figure size 432x288 with 1 Axes>"
      ]
     },
     "metadata": {
      "needs_background": "light"
     },
     "output_type": "display_data"
    }
   ],
   "source": [
    "#Try using wordcloud\n",
    "\n",
    "# Start with one review:\n",
    "text = data.Text[5000]\n",
    "\n",
    "# Create and generate a word cloud image:\n",
    "wordcloud = WordCloud().generate(text)\n",
    "\n",
    "# Display the generated image:\n",
    "plt.imshow(wordcloud, interpolation='bilinear')\n",
    "plt.axis(\"off\")\n",
    "plt.show()"
   ]
  },
  {
   "cell_type": "code",
   "execution_count": 2,
   "metadata": {},
   "outputs": [],
   "source": [
    "svd = TruncatedSVD(n_components=100)"
   ]
  },
  {
   "cell_type": "code",
   "execution_count": 3,
   "metadata": {},
   "outputs": [
    {
     "ename": "NameError",
     "evalue": "name 'text' is not defined",
     "output_type": "error",
     "traceback": [
      "\u001b[0;31m---------------------------------------------------------------------------\u001b[0m",
      "\u001b[0;31mNameError\u001b[0m                                 Traceback (most recent call last)",
      "\u001b[0;32m<ipython-input-3-f072ab73f17d>\u001b[0m in \u001b[0;36m<module>\u001b[0;34m\u001b[0m\n\u001b[0;32m----> 1\u001b[0;31m \u001b[0msvd\u001b[0m\u001b[0;34m.\u001b[0m\u001b[0mfit\u001b[0m\u001b[0;34m(\u001b[0m\u001b[0mtext\u001b[0m\u001b[0;34m)\u001b[0m\u001b[0;34m\u001b[0m\u001b[0;34m\u001b[0m\u001b[0m\n\u001b[0m",
      "\u001b[0;31mNameError\u001b[0m: name 'text' is not defined"
     ]
    }
   ],
   "source": [
    "svd.fit(text)"
   ]
  },
  {
   "cell_type": "markdown",
   "metadata": {},
   "source": [
    "### K-means algorithm implementation into a function"
   ]
  },
  {
   "cell_type": "code",
   "execution_count": 20,
   "metadata": {},
   "outputs": [],
   "source": [
    "k = 3 # number of clusters\n",
    "max_iteration = 2    "
   ]
  },
  {
   "cell_type": "code",
   "execution_count": 21,
   "metadata": {},
   "outputs": [],
   "source": [
    "def Distance2Point(point1, point2):\n",
    "    dis = sum((point1 - point2)**2)**0.5\n",
    "    return dis"
   ]
  },
  {
   "cell_type": "code",
   "execution_count": 24,
   "metadata": {},
   "outputs": [],
   "source": [
    "def KMean(data):\n",
    "\n",
    "    centroids = {}\n",
    "\n",
    "    for i in range(k):\n",
    "        centroids[i] = data[i]\n",
    "\n",
    "    classes = {}\n",
    "    for iteration in range(max_iteration):\n",
    "        classes = {}\n",
    "    for classKey in range(k):\n",
    "        classes[classKey] = []\n",
    "\n",
    "      \n",
    "    for dataPoint in data: \n",
    "        Distance = []\n",
    "        for centroid in centroids:\n",
    "            dis = Distance2Point(dataPoint, centroids[centroid])\n",
    "            Distance.append(dis)\n",
    "\n",
    "          \n",
    "        minDis = min(Distance)\n",
    "            \n",
    "        minDisIndex = Distance.index(minDis)\n",
    "        classes[minDisIndex].append(dataPoint)\n",
    "           \n",
    "     \n",
    "    oldCentroid = dict(centroids)\n",
    "        \n",
    "    for classKey in classes:\n",
    "        classData = classes[classKey]\n",
    "        NewCentroid = np.mean(classData, axis = 0)\n",
    "        centroids[classKey] = NewCentroid\n",
    "        \n",
    "        isFine = True\n",
    "\n",
    "        for centroid in oldCentroid:\n",
    "            oldCent = oldCentroid[centroid]\n",
    "            curr = centroids[centroid]\n",
    "            \n",
    "        if np.sum((curr - oldCent)/oldCent * 100) > 0.001:\n",
    "                isFine = False\n",
    "\n",
    "        if isFine:\n",
    "            break\n",
    "  \n",
    "    return centroids, classes"
   ]
  },
  {
   "cell_type": "code",
   "execution_count": 26,
   "metadata": {},
   "outputs": [
    {
     "ename": "KeyError",
     "evalue": "0",
     "output_type": "error",
     "traceback": [
      "\u001b[0;31m---------------------------------------------------------------------------\u001b[0m",
      "\u001b[0;31mKeyError\u001b[0m                                  Traceback (most recent call last)",
      "\u001b[0;32m~/anaconda3/lib/python3.8/site-packages/pandas/core/indexes/base.py\u001b[0m in \u001b[0;36mget_loc\u001b[0;34m(self, key, method, tolerance)\u001b[0m\n\u001b[1;32m   2645\u001b[0m             \u001b[0;32mtry\u001b[0m\u001b[0;34m:\u001b[0m\u001b[0;34m\u001b[0m\u001b[0;34m\u001b[0m\u001b[0m\n\u001b[0;32m-> 2646\u001b[0;31m                 \u001b[0;32mreturn\u001b[0m \u001b[0mself\u001b[0m\u001b[0;34m.\u001b[0m\u001b[0m_engine\u001b[0m\u001b[0;34m.\u001b[0m\u001b[0mget_loc\u001b[0m\u001b[0;34m(\u001b[0m\u001b[0mkey\u001b[0m\u001b[0;34m)\u001b[0m\u001b[0;34m\u001b[0m\u001b[0;34m\u001b[0m\u001b[0m\n\u001b[0m\u001b[1;32m   2647\u001b[0m             \u001b[0;32mexcept\u001b[0m \u001b[0mKeyError\u001b[0m\u001b[0;34m:\u001b[0m\u001b[0;34m\u001b[0m\u001b[0;34m\u001b[0m\u001b[0m\n",
      "\u001b[0;32mpandas/_libs/index.pyx\u001b[0m in \u001b[0;36mpandas._libs.index.IndexEngine.get_loc\u001b[0;34m()\u001b[0m\n",
      "\u001b[0;32mpandas/_libs/index.pyx\u001b[0m in \u001b[0;36mpandas._libs.index.IndexEngine.get_loc\u001b[0;34m()\u001b[0m\n",
      "\u001b[0;32mpandas/_libs/hashtable_class_helper.pxi\u001b[0m in \u001b[0;36mpandas._libs.hashtable.PyObjectHashTable.get_item\u001b[0;34m()\u001b[0m\n",
      "\u001b[0;32mpandas/_libs/hashtable_class_helper.pxi\u001b[0m in \u001b[0;36mpandas._libs.hashtable.PyObjectHashTable.get_item\u001b[0;34m()\u001b[0m\n",
      "\u001b[0;31mKeyError\u001b[0m: 0",
      "\nDuring handling of the above exception, another exception occurred:\n",
      "\u001b[0;31mKeyError\u001b[0m                                  Traceback (most recent call last)",
      "\u001b[0;32m<ipython-input-26-84bfa3cc44aa>\u001b[0m in \u001b[0;36m<module>\u001b[0;34m\u001b[0m\n\u001b[0;32m----> 1\u001b[0;31m \u001b[0mKMean\u001b[0m\u001b[0;34m(\u001b[0m\u001b[0mdata\u001b[0m\u001b[0;34m)\u001b[0m\u001b[0;34m\u001b[0m\u001b[0;34m\u001b[0m\u001b[0m\n\u001b[0m",
      "\u001b[0;32m<ipython-input-24-14d5f1b86d47>\u001b[0m in \u001b[0;36mKMean\u001b[0;34m(data)\u001b[0m\n\u001b[1;32m      4\u001b[0m \u001b[0;34m\u001b[0m\u001b[0m\n\u001b[1;32m      5\u001b[0m     \u001b[0;32mfor\u001b[0m \u001b[0mi\u001b[0m \u001b[0;32min\u001b[0m \u001b[0mrange\u001b[0m\u001b[0;34m(\u001b[0m\u001b[0mk\u001b[0m\u001b[0;34m)\u001b[0m\u001b[0;34m:\u001b[0m\u001b[0;34m\u001b[0m\u001b[0;34m\u001b[0m\u001b[0m\n\u001b[0;32m----> 6\u001b[0;31m         \u001b[0mcentroids\u001b[0m\u001b[0;34m[\u001b[0m\u001b[0mi\u001b[0m\u001b[0;34m]\u001b[0m \u001b[0;34m=\u001b[0m \u001b[0mdata\u001b[0m\u001b[0;34m[\u001b[0m\u001b[0mi\u001b[0m\u001b[0;34m]\u001b[0m\u001b[0;34m\u001b[0m\u001b[0;34m\u001b[0m\u001b[0m\n\u001b[0m\u001b[1;32m      7\u001b[0m \u001b[0;34m\u001b[0m\u001b[0m\n\u001b[1;32m      8\u001b[0m     \u001b[0mclasses\u001b[0m \u001b[0;34m=\u001b[0m \u001b[0;34m{\u001b[0m\u001b[0;34m}\u001b[0m\u001b[0;34m\u001b[0m\u001b[0;34m\u001b[0m\u001b[0m\n",
      "\u001b[0;32m~/anaconda3/lib/python3.8/site-packages/pandas/core/frame.py\u001b[0m in \u001b[0;36m__getitem__\u001b[0;34m(self, key)\u001b[0m\n\u001b[1;32m   2798\u001b[0m             \u001b[0;32mif\u001b[0m \u001b[0mself\u001b[0m\u001b[0;34m.\u001b[0m\u001b[0mcolumns\u001b[0m\u001b[0;34m.\u001b[0m\u001b[0mnlevels\u001b[0m \u001b[0;34m>\u001b[0m \u001b[0;36m1\u001b[0m\u001b[0;34m:\u001b[0m\u001b[0;34m\u001b[0m\u001b[0;34m\u001b[0m\u001b[0m\n\u001b[1;32m   2799\u001b[0m                 \u001b[0;32mreturn\u001b[0m \u001b[0mself\u001b[0m\u001b[0;34m.\u001b[0m\u001b[0m_getitem_multilevel\u001b[0m\u001b[0;34m(\u001b[0m\u001b[0mkey\u001b[0m\u001b[0;34m)\u001b[0m\u001b[0;34m\u001b[0m\u001b[0;34m\u001b[0m\u001b[0m\n\u001b[0;32m-> 2800\u001b[0;31m             \u001b[0mindexer\u001b[0m \u001b[0;34m=\u001b[0m \u001b[0mself\u001b[0m\u001b[0;34m.\u001b[0m\u001b[0mcolumns\u001b[0m\u001b[0;34m.\u001b[0m\u001b[0mget_loc\u001b[0m\u001b[0;34m(\u001b[0m\u001b[0mkey\u001b[0m\u001b[0;34m)\u001b[0m\u001b[0;34m\u001b[0m\u001b[0;34m\u001b[0m\u001b[0m\n\u001b[0m\u001b[1;32m   2801\u001b[0m             \u001b[0;32mif\u001b[0m \u001b[0mis_integer\u001b[0m\u001b[0;34m(\u001b[0m\u001b[0mindexer\u001b[0m\u001b[0;34m)\u001b[0m\u001b[0;34m:\u001b[0m\u001b[0;34m\u001b[0m\u001b[0;34m\u001b[0m\u001b[0m\n\u001b[1;32m   2802\u001b[0m                 \u001b[0mindexer\u001b[0m \u001b[0;34m=\u001b[0m \u001b[0;34m[\u001b[0m\u001b[0mindexer\u001b[0m\u001b[0;34m]\u001b[0m\u001b[0;34m\u001b[0m\u001b[0;34m\u001b[0m\u001b[0m\n",
      "\u001b[0;32m~/anaconda3/lib/python3.8/site-packages/pandas/core/indexes/base.py\u001b[0m in \u001b[0;36mget_loc\u001b[0;34m(self, key, method, tolerance)\u001b[0m\n\u001b[1;32m   2646\u001b[0m                 \u001b[0;32mreturn\u001b[0m \u001b[0mself\u001b[0m\u001b[0;34m.\u001b[0m\u001b[0m_engine\u001b[0m\u001b[0;34m.\u001b[0m\u001b[0mget_loc\u001b[0m\u001b[0;34m(\u001b[0m\u001b[0mkey\u001b[0m\u001b[0;34m)\u001b[0m\u001b[0;34m\u001b[0m\u001b[0;34m\u001b[0m\u001b[0m\n\u001b[1;32m   2647\u001b[0m             \u001b[0;32mexcept\u001b[0m \u001b[0mKeyError\u001b[0m\u001b[0;34m:\u001b[0m\u001b[0;34m\u001b[0m\u001b[0;34m\u001b[0m\u001b[0m\n\u001b[0;32m-> 2648\u001b[0;31m                 \u001b[0;32mreturn\u001b[0m \u001b[0mself\u001b[0m\u001b[0;34m.\u001b[0m\u001b[0m_engine\u001b[0m\u001b[0;34m.\u001b[0m\u001b[0mget_loc\u001b[0m\u001b[0;34m(\u001b[0m\u001b[0mself\u001b[0m\u001b[0;34m.\u001b[0m\u001b[0m_maybe_cast_indexer\u001b[0m\u001b[0;34m(\u001b[0m\u001b[0mkey\u001b[0m\u001b[0;34m)\u001b[0m\u001b[0;34m)\u001b[0m\u001b[0;34m\u001b[0m\u001b[0;34m\u001b[0m\u001b[0m\n\u001b[0m\u001b[1;32m   2649\u001b[0m         \u001b[0mindexer\u001b[0m \u001b[0;34m=\u001b[0m \u001b[0mself\u001b[0m\u001b[0;34m.\u001b[0m\u001b[0mget_indexer\u001b[0m\u001b[0;34m(\u001b[0m\u001b[0;34m[\u001b[0m\u001b[0mkey\u001b[0m\u001b[0;34m]\u001b[0m\u001b[0;34m,\u001b[0m \u001b[0mmethod\u001b[0m\u001b[0;34m=\u001b[0m\u001b[0mmethod\u001b[0m\u001b[0;34m,\u001b[0m \u001b[0mtolerance\u001b[0m\u001b[0;34m=\u001b[0m\u001b[0mtolerance\u001b[0m\u001b[0;34m)\u001b[0m\u001b[0;34m\u001b[0m\u001b[0;34m\u001b[0m\u001b[0m\n\u001b[1;32m   2650\u001b[0m         \u001b[0;32mif\u001b[0m \u001b[0mindexer\u001b[0m\u001b[0;34m.\u001b[0m\u001b[0mndim\u001b[0m \u001b[0;34m>\u001b[0m \u001b[0;36m1\u001b[0m \u001b[0;32mor\u001b[0m \u001b[0mindexer\u001b[0m\u001b[0;34m.\u001b[0m\u001b[0msize\u001b[0m \u001b[0;34m>\u001b[0m \u001b[0;36m1\u001b[0m\u001b[0;34m:\u001b[0m\u001b[0;34m\u001b[0m\u001b[0;34m\u001b[0m\u001b[0m\n",
      "\u001b[0;32mpandas/_libs/index.pyx\u001b[0m in \u001b[0;36mpandas._libs.index.IndexEngine.get_loc\u001b[0;34m()\u001b[0m\n",
      "\u001b[0;32mpandas/_libs/index.pyx\u001b[0m in \u001b[0;36mpandas._libs.index.IndexEngine.get_loc\u001b[0;34m()\u001b[0m\n",
      "\u001b[0;32mpandas/_libs/hashtable_class_helper.pxi\u001b[0m in \u001b[0;36mpandas._libs.hashtable.PyObjectHashTable.get_item\u001b[0;34m()\u001b[0m\n",
      "\u001b[0;32mpandas/_libs/hashtable_class_helper.pxi\u001b[0m in \u001b[0;36mpandas._libs.hashtable.PyObjectHashTable.get_item\u001b[0;34m()\u001b[0m\n",
      "\u001b[0;31mKeyError\u001b[0m: 0"
     ]
    }
   ],
   "source": [
    "KMean(data)"
   ]
  },
  {
   "cell_type": "code",
   "execution_count": null,
   "metadata": {},
   "outputs": [],
   "source": []
  }
 ],
 "metadata": {
  "kernelspec": {
   "display_name": "Python 3",
   "language": "python",
   "name": "python3"
  },
  "language_info": {
   "codemirror_mode": {
    "name": "ipython",
    "version": 3
   },
   "file_extension": ".py",
   "mimetype": "text/x-python",
   "name": "python",
   "nbconvert_exporter": "python",
   "pygments_lexer": "ipython3",
   "version": "3.8.3"
  }
 },
 "nbformat": 4,
 "nbformat_minor": 4
}
